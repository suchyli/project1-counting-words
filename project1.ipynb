{
 "cells": [
  {
   "cell_type": "markdown",
   "metadata": {},
   "source": [
    "# Project 1: Counting words in college subreddits"
   ]
  },
  {
   "cell_type": "markdown",
   "metadata": {},
   "source": [
    "Due 2/11. Reminder that you are allowed to use any amount of AI assistance or outside resources with citation"
   ]
  },
  {
   "cell_type": "markdown",
   "metadata": {},
   "source": [
    "## Part 1: word counting and bag of words"
   ]
  },
  {
   "cell_type": "code",
   "execution_count": 49,
   "metadata": {},
   "outputs": [
    {
     "name": "stdout",
     "output_type": "stream",
     "text": [
      "Requirement already satisfied: matplotlib in /opt/miniconda3/envs/is310/lib/python3.9/site-packages (3.9.4)\n",
      "Requirement already satisfied: contourpy>=1.0.1 in /opt/miniconda3/envs/is310/lib/python3.9/site-packages (from matplotlib) (1.3.0)\n",
      "Requirement already satisfied: cycler>=0.10 in /opt/miniconda3/envs/is310/lib/python3.9/site-packages (from matplotlib) (0.12.1)\n",
      "Requirement already satisfied: fonttools>=4.22.0 in /opt/miniconda3/envs/is310/lib/python3.9/site-packages (from matplotlib) (4.56.0)\n",
      "Requirement already satisfied: kiwisolver>=1.3.1 in /opt/miniconda3/envs/is310/lib/python3.9/site-packages (from matplotlib) (1.4.7)\n",
      "Collecting numpy>=1.23 (from matplotlib)\n",
      "  Downloading numpy-2.0.2-cp39-cp39-macosx_14_0_arm64.whl.metadata (60 kB)\n",
      "Requirement already satisfied: packaging>=20.0 in /opt/miniconda3/envs/is310/lib/python3.9/site-packages (from matplotlib) (24.2)\n",
      "Requirement already satisfied: pillow>=8 in /opt/miniconda3/envs/is310/lib/python3.9/site-packages (from matplotlib) (11.1.0)\n",
      "Requirement already satisfied: pyparsing>=2.3.1 in /opt/miniconda3/envs/is310/lib/python3.9/site-packages (from matplotlib) (3.2.1)\n",
      "Requirement already satisfied: python-dateutil>=2.7 in /opt/miniconda3/envs/is310/lib/python3.9/site-packages (from matplotlib) (2.9.0.post0)\n",
      "Requirement already satisfied: importlib-resources>=3.2.0 in /opt/miniconda3/envs/is310/lib/python3.9/site-packages (from matplotlib) (6.5.2)\n",
      "Requirement already satisfied: zipp>=3.1.0 in /opt/miniconda3/envs/is310/lib/python3.9/site-packages (from importlib-resources>=3.2.0->matplotlib) (3.21.0)\n",
      "Requirement already satisfied: six>=1.5 in /opt/miniconda3/envs/is310/lib/python3.9/site-packages (from python-dateutil>=2.7->matplotlib) (1.16.0)\n",
      "Downloading numpy-2.0.2-cp39-cp39-macosx_14_0_arm64.whl (5.3 MB)\n",
      "\u001b[2K   \u001b[90m━━━━━━━━━━━━━━━━━━━━━━━━━━━━━━━━━━━━━━━━\u001b[0m \u001b[32m5.3/5.3 MB\u001b[0m \u001b[31m45.8 MB/s\u001b[0m eta \u001b[36m0:00:00\u001b[0m\n",
      "\u001b[?25hInstalling collected packages: numpy\n",
      "\u001b[31mERROR: pip's dependency resolver does not currently take into account all the packages that are installed. This behaviour is the source of the following dependency conflicts.\n",
      "gensim 4.3.3 requires numpy<2.0,>=1.18.5, but you have numpy 2.0.2 which is incompatible.\u001b[0m\u001b[31m\n",
      "\u001b[0mSuccessfully installed numpy-2.0.2\n"
     ]
    }
   ],
   "source": [
    "!pip install matplotlib"
   ]
  },
  {
   "cell_type": "code",
   "execution_count": 50,
   "metadata": {},
   "outputs": [
    {
     "name": "stdout",
     "output_type": "stream",
     "text": [
      "Requirement already satisfied: spacy in /opt/miniconda3/envs/is310/lib/python3.9/site-packages (3.8.3)\n",
      "Requirement already satisfied: spacy-legacy<3.1.0,>=3.0.11 in /opt/miniconda3/envs/is310/lib/python3.9/site-packages (from spacy) (3.0.12)\n",
      "Requirement already satisfied: spacy-loggers<2.0.0,>=1.0.0 in /opt/miniconda3/envs/is310/lib/python3.9/site-packages (from spacy) (1.0.5)\n",
      "Requirement already satisfied: murmurhash<1.1.0,>=0.28.0 in /opt/miniconda3/envs/is310/lib/python3.9/site-packages (from spacy) (1.0.12)\n",
      "Requirement already satisfied: cymem<2.1.0,>=2.0.2 in /opt/miniconda3/envs/is310/lib/python3.9/site-packages (from spacy) (2.0.11)\n",
      "Requirement already satisfied: preshed<3.1.0,>=3.0.2 in /opt/miniconda3/envs/is310/lib/python3.9/site-packages (from spacy) (3.0.9)\n",
      "Requirement already satisfied: thinc<8.4.0,>=8.3.0 in /opt/miniconda3/envs/is310/lib/python3.9/site-packages (from spacy) (8.3.4)\n",
      "Requirement already satisfied: wasabi<1.2.0,>=0.9.1 in /opt/miniconda3/envs/is310/lib/python3.9/site-packages (from spacy) (1.1.3)\n",
      "Requirement already satisfied: srsly<3.0.0,>=2.4.3 in /opt/miniconda3/envs/is310/lib/python3.9/site-packages (from spacy) (2.5.1)\n",
      "Requirement already satisfied: catalogue<2.1.0,>=2.0.6 in /opt/miniconda3/envs/is310/lib/python3.9/site-packages (from spacy) (2.0.10)\n",
      "Requirement already satisfied: weasel<0.5.0,>=0.1.0 in /opt/miniconda3/envs/is310/lib/python3.9/site-packages (from spacy) (0.4.1)\n",
      "Requirement already satisfied: typer<1.0.0,>=0.3.0 in /opt/miniconda3/envs/is310/lib/python3.9/site-packages (from spacy) (0.15.1)\n",
      "Requirement already satisfied: tqdm<5.0.0,>=4.38.0 in /opt/miniconda3/envs/is310/lib/python3.9/site-packages (from spacy) (4.67.1)\n",
      "Requirement already satisfied: numpy>=1.19.0 in /opt/miniconda3/envs/is310/lib/python3.9/site-packages (from spacy) (2.0.2)\n",
      "Requirement already satisfied: requests<3.0.0,>=2.13.0 in /opt/miniconda3/envs/is310/lib/python3.9/site-packages (from spacy) (2.32.3)\n",
      "Requirement already satisfied: pydantic!=1.8,!=1.8.1,<3.0.0,>=1.7.4 in /opt/miniconda3/envs/is310/lib/python3.9/site-packages (from spacy) (2.10.6)\n",
      "Requirement already satisfied: jinja2 in /opt/miniconda3/envs/is310/lib/python3.9/site-packages (from spacy) (3.1.5)\n",
      "Requirement already satisfied: setuptools in /opt/miniconda3/envs/is310/lib/python3.9/site-packages (from spacy) (72.1.0)\n",
      "Requirement already satisfied: packaging>=20.0 in /opt/miniconda3/envs/is310/lib/python3.9/site-packages (from spacy) (24.2)\n",
      "Requirement already satisfied: langcodes<4.0.0,>=3.2.0 in /opt/miniconda3/envs/is310/lib/python3.9/site-packages (from spacy) (3.5.0)\n",
      "Requirement already satisfied: language-data>=1.2 in /opt/miniconda3/envs/is310/lib/python3.9/site-packages (from langcodes<4.0.0,>=3.2.0->spacy) (1.3.0)\n",
      "Requirement already satisfied: annotated-types>=0.6.0 in /opt/miniconda3/envs/is310/lib/python3.9/site-packages (from pydantic!=1.8,!=1.8.1,<3.0.0,>=1.7.4->spacy) (0.7.0)\n",
      "Requirement already satisfied: pydantic-core==2.27.2 in /opt/miniconda3/envs/is310/lib/python3.9/site-packages (from pydantic!=1.8,!=1.8.1,<3.0.0,>=1.7.4->spacy) (2.27.2)\n",
      "Requirement already satisfied: typing-extensions>=4.12.2 in /opt/miniconda3/envs/is310/lib/python3.9/site-packages (from pydantic!=1.8,!=1.8.1,<3.0.0,>=1.7.4->spacy) (4.12.2)\n",
      "Requirement already satisfied: charset-normalizer<4,>=2 in /opt/miniconda3/envs/is310/lib/python3.9/site-packages (from requests<3.0.0,>=2.13.0->spacy) (3.3.2)\n",
      "Requirement already satisfied: idna<4,>=2.5 in /opt/miniconda3/envs/is310/lib/python3.9/site-packages (from requests<3.0.0,>=2.13.0->spacy) (3.7)\n",
      "Requirement already satisfied: urllib3<3,>=1.21.1 in /opt/miniconda3/envs/is310/lib/python3.9/site-packages (from requests<3.0.0,>=2.13.0->spacy) (2.3.0)\n",
      "Requirement already satisfied: certifi>=2017.4.17 in /opt/miniconda3/envs/is310/lib/python3.9/site-packages (from requests<3.0.0,>=2.13.0->spacy) (2025.1.31)\n",
      "Requirement already satisfied: blis<1.3.0,>=1.2.0 in /opt/miniconda3/envs/is310/lib/python3.9/site-packages (from thinc<8.4.0,>=8.3.0->spacy) (1.2.0)\n",
      "Requirement already satisfied: confection<1.0.0,>=0.0.1 in /opt/miniconda3/envs/is310/lib/python3.9/site-packages (from thinc<8.4.0,>=8.3.0->spacy) (0.1.5)\n",
      "Requirement already satisfied: click>=8.0.0 in /opt/miniconda3/envs/is310/lib/python3.9/site-packages (from typer<1.0.0,>=0.3.0->spacy) (8.1.7)\n",
      "Requirement already satisfied: shellingham>=1.3.0 in /opt/miniconda3/envs/is310/lib/python3.9/site-packages (from typer<1.0.0,>=0.3.0->spacy) (1.5.4)\n",
      "Requirement already satisfied: rich>=10.11.0 in /opt/miniconda3/envs/is310/lib/python3.9/site-packages (from typer<1.0.0,>=0.3.0->spacy) (13.9.4)\n",
      "Requirement already satisfied: cloudpathlib<1.0.0,>=0.7.0 in /opt/miniconda3/envs/is310/lib/python3.9/site-packages (from weasel<0.5.0,>=0.1.0->spacy) (0.20.0)\n",
      "Requirement already satisfied: smart-open<8.0.0,>=5.2.1 in /opt/miniconda3/envs/is310/lib/python3.9/site-packages (from weasel<0.5.0,>=0.1.0->spacy) (7.1.0)\n",
      "Requirement already satisfied: MarkupSafe>=2.0 in /opt/miniconda3/envs/is310/lib/python3.9/site-packages (from jinja2->spacy) (3.0.2)\n",
      "Requirement already satisfied: marisa-trie>=1.1.0 in /opt/miniconda3/envs/is310/lib/python3.9/site-packages (from language-data>=1.2->langcodes<4.0.0,>=3.2.0->spacy) (1.2.1)\n",
      "Requirement already satisfied: markdown-it-py>=2.2.0 in /opt/miniconda3/envs/is310/lib/python3.9/site-packages (from rich>=10.11.0->typer<1.0.0,>=0.3.0->spacy) (3.0.0)\n",
      "Requirement already satisfied: pygments<3.0.0,>=2.13.0 in /opt/miniconda3/envs/is310/lib/python3.9/site-packages (from rich>=10.11.0->typer<1.0.0,>=0.3.0->spacy) (2.15.1)\n",
      "Requirement already satisfied: wrapt in /opt/miniconda3/envs/is310/lib/python3.9/site-packages (from smart-open<8.0.0,>=5.2.1->weasel<0.5.0,>=0.1.0->spacy) (1.17.2)\n",
      "Requirement already satisfied: mdurl~=0.1 in /opt/miniconda3/envs/is310/lib/python3.9/site-packages (from markdown-it-py>=2.2.0->rich>=10.11.0->typer<1.0.0,>=0.3.0->spacy) (0.1.2)\n"
     ]
    }
   ],
   "source": [
    "#install spacy in the current conda environment\n",
    "!pip install spacy"
   ]
  },
  {
   "cell_type": "code",
   "execution_count": 51,
   "metadata": {},
   "outputs": [
    {
     "name": "stdout",
     "output_type": "stream",
     "text": [
      "Requirement already satisfied: scikit-learn in /opt/miniconda3/envs/is310/lib/python3.9/site-packages (1.6.1)\n",
      "Requirement already satisfied: numpy>=1.19.5 in /opt/miniconda3/envs/is310/lib/python3.9/site-packages (from scikit-learn) (2.0.2)\n",
      "Requirement already satisfied: scipy>=1.6.0 in /opt/miniconda3/envs/is310/lib/python3.9/site-packages (from scikit-learn) (1.13.1)\n",
      "Requirement already satisfied: joblib>=1.2.0 in /opt/miniconda3/envs/is310/lib/python3.9/site-packages (from scikit-learn) (1.4.2)\n",
      "Requirement already satisfied: threadpoolctl>=3.1.0 in /opt/miniconda3/envs/is310/lib/python3.9/site-packages (from scikit-learn) (3.5.0)\n"
     ]
    }
   ],
   "source": [
    "!pip install scikit-learn"
   ]
  },
  {
   "cell_type": "code",
   "execution_count": 52,
   "metadata": {},
   "outputs": [
    {
     "name": "stdout",
     "output_type": "stream",
     "text": [
      "Collecting en-core-web-sm==3.8.0\n",
      "  Downloading https://github.com/explosion/spacy-models/releases/download/en_core_web_sm-3.8.0/en_core_web_sm-3.8.0-py3-none-any.whl (12.8 MB)\n",
      "\u001b[2K     \u001b[90m━━━━━━━━━━━━━━━━━━━━━━━━━━━━━━━━━━━━━━━━\u001b[0m \u001b[32m12.8/12.8 MB\u001b[0m \u001b[31m37.4 MB/s\u001b[0m eta \u001b[36m0:00:00\u001b[0m \u001b[36m0:00:01\u001b[0m\n",
      "\u001b[?25h\u001b[38;5;2m✔ Download and installation successful\u001b[0m\n",
      "You can now load the package via spacy.load('en_core_web_sm')\n"
     ]
    }
   ],
   "source": [
    "#download a small language model to help with cleaning tasks\n",
    "!python -m spacy download en_core_web_sm"
   ]
  },
  {
   "cell_type": "code",
   "execution_count": 53,
   "metadata": {},
   "outputs": [],
   "source": [
    "#import required libraries\n",
    "import pandas as pd\n",
    "from sklearn.feature_extraction.text import CountVectorizer\n",
    "import spacy\n",
    "language_model = spacy.load(\"en_core_web_sm\")\n",
    "import matplotlib.pyplot as plt\n",
    "\n",
    "import numpy as np"
   ]
  },
  {
   "cell_type": "markdown",
   "metadata": {},
   "source": [
    "### Problem 1 and example: common words in the Michigan subreddit"
   ]
  },
  {
   "cell_type": "code",
   "execution_count": 54,
   "metadata": {},
   "outputs": [],
   "source": [
    "#read the data from a csv file in the folder\n",
    "mich=pd.read_csv(\"umich.csv\")"
   ]
  },
  {
   "cell_type": "code",
   "execution_count": 55,
   "metadata": {},
   "outputs": [
    {
     "data": {
      "text/html": [
       "<div>\n",
       "<style scoped>\n",
       "    .dataframe tbody tr th:only-of-type {\n",
       "        vertical-align: middle;\n",
       "    }\n",
       "\n",
       "    .dataframe tbody tr th {\n",
       "        vertical-align: top;\n",
       "    }\n",
       "\n",
       "    .dataframe thead th {\n",
       "        text-align: right;\n",
       "    }\n",
       "</style>\n",
       "<table border=\"1\" class=\"dataframe\">\n",
       "  <thead>\n",
       "    <tr style=\"text-align: right;\">\n",
       "      <th></th>\n",
       "      <th>Unnamed: 0</th>\n",
       "      <th>date</th>\n",
       "      <th>post_votes</th>\n",
       "      <th>text</th>\n",
       "      <th>user</th>\n",
       "      <th>com_votes</th>\n",
       "    </tr>\n",
       "  </thead>\n",
       "  <tbody>\n",
       "    <tr>\n",
       "      <th>0</th>\n",
       "      <td>0</td>\n",
       "      <td>2024-09-04 15:33:20</td>\n",
       "      <td>2</td>\n",
       "      <td>Zingermans has a nice reuben, pretty pricey bu...</td>\n",
       "      <td>Suspicious-Bad703</td>\n",
       "      <td>2</td>\n",
       "    </tr>\n",
       "    <tr>\n",
       "      <th>1</th>\n",
       "      <td>1</td>\n",
       "      <td>2024-09-04 15:33:20</td>\n",
       "      <td>2</td>\n",
       "      <td>I really love Tomokun!</td>\n",
       "      <td>webstbre000</td>\n",
       "      <td>2</td>\n",
       "    </tr>\n",
       "    <tr>\n",
       "      <th>2</th>\n",
       "      <td>2</td>\n",
       "      <td>2024-09-04 15:33:20</td>\n",
       "      <td>2</td>\n",
       "      <td>The Seoul is pretty good I especially like the...</td>\n",
       "      <td>iaxlmao</td>\n",
       "      <td>1</td>\n",
       "    </tr>\n",
       "    <tr>\n",
       "      <th>3</th>\n",
       "      <td>3</td>\n",
       "      <td>2024-09-04 15:33:20</td>\n",
       "      <td>2</td>\n",
       "      <td>A lot of it depends on what type of food and w...</td>\n",
       "      <td>I-696</td>\n",
       "      <td>1</td>\n",
       "    </tr>\n",
       "    <tr>\n",
       "      <th>4</th>\n",
       "      <td>4</td>\n",
       "      <td>2024-09-04 14:32:17</td>\n",
       "      <td>1</td>\n",
       "      <td>You can book completely enclosed private study...</td>\n",
       "      <td>sneep_</td>\n",
       "      <td>2</td>\n",
       "    </tr>\n",
       "    <tr>\n",
       "      <th>...</th>\n",
       "      <td>...</td>\n",
       "      <td>...</td>\n",
       "      <td>...</td>\n",
       "      <td>...</td>\n",
       "      <td>...</td>\n",
       "      <td>...</td>\n",
       "    </tr>\n",
       "    <tr>\n",
       "      <th>8334</th>\n",
       "      <td>8334</td>\n",
       "      <td>2024-07-02 12:35:36</td>\n",
       "      <td>9</td>\n",
       "      <td>It isn’t a student org</td>\n",
       "      <td>Vibes_And_Smiles</td>\n",
       "      <td>1</td>\n",
       "    </tr>\n",
       "    <tr>\n",
       "      <th>8335</th>\n",
       "      <td>8335</td>\n",
       "      <td>2024-07-02 11:07:10</td>\n",
       "      <td>0</td>\n",
       "      <td>Life   \\nMatter   \\nLife's matter</td>\n",
       "      <td>tctu</td>\n",
       "      <td>8</td>\n",
       "    </tr>\n",
       "    <tr>\n",
       "      <th>8336</th>\n",
       "      <td>8336</td>\n",
       "      <td>2024-07-02 11:07:10</td>\n",
       "      <td>0</td>\n",
       "      <td>google</td>\n",
       "      <td>SUPERazkari</td>\n",
       "      <td>4</td>\n",
       "    </tr>\n",
       "    <tr>\n",
       "      <th>8337</th>\n",
       "      <td>8337</td>\n",
       "      <td>2024-07-02 11:07:10</td>\n",
       "      <td>0</td>\n",
       "      <td>That’s a hard question to answer for a set of ...</td>\n",
       "      <td>Own-Resident-3837</td>\n",
       "      <td>-1</td>\n",
       "    </tr>\n",
       "    <tr>\n",
       "      <th>8338</th>\n",
       "      <td>8338</td>\n",
       "      <td>2024-07-02 11:07:10</td>\n",
       "      <td>0</td>\n",
       "      <td>Not either one but instead why do people pick ...</td>\n",
       "      <td>No-Chemistry-6677</td>\n",
       "      <td>-4</td>\n",
       "    </tr>\n",
       "  </tbody>\n",
       "</table>\n",
       "<p>8339 rows × 6 columns</p>\n",
       "</div>"
      ],
      "text/plain": [
       "      Unnamed: 0                 date  post_votes  \\\n",
       "0              0  2024-09-04 15:33:20           2   \n",
       "1              1  2024-09-04 15:33:20           2   \n",
       "2              2  2024-09-04 15:33:20           2   \n",
       "3              3  2024-09-04 15:33:20           2   \n",
       "4              4  2024-09-04 14:32:17           1   \n",
       "...          ...                  ...         ...   \n",
       "8334        8334  2024-07-02 12:35:36           9   \n",
       "8335        8335  2024-07-02 11:07:10           0   \n",
       "8336        8336  2024-07-02 11:07:10           0   \n",
       "8337        8337  2024-07-02 11:07:10           0   \n",
       "8338        8338  2024-07-02 11:07:10           0   \n",
       "\n",
       "                                                   text               user  \\\n",
       "0     Zingermans has a nice reuben, pretty pricey bu...  Suspicious-Bad703   \n",
       "1                                I really love Tomokun!        webstbre000   \n",
       "2     The Seoul is pretty good I especially like the...            iaxlmao   \n",
       "3     A lot of it depends on what type of food and w...              I-696   \n",
       "4     You can book completely enclosed private study...             sneep_   \n",
       "...                                                 ...                ...   \n",
       "8334                             It isn’t a student org   Vibes_And_Smiles   \n",
       "8335                  Life   \\nMatter   \\nLife's matter               tctu   \n",
       "8336                                             google        SUPERazkari   \n",
       "8337  That’s a hard question to answer for a set of ...  Own-Resident-3837   \n",
       "8338  Not either one but instead why do people pick ...  No-Chemistry-6677   \n",
       "\n",
       "      com_votes  \n",
       "0             2  \n",
       "1             2  \n",
       "2             1  \n",
       "3             1  \n",
       "4             2  \n",
       "...         ...  \n",
       "8334          1  \n",
       "8335          8  \n",
       "8336          4  \n",
       "8337         -1  \n",
       "8338         -4  \n",
       "\n",
       "[8339 rows x 6 columns]"
      ]
     },
     "execution_count": 55,
     "metadata": {},
     "output_type": "execute_result"
    }
   ],
   "source": [
    "#jupyter will print a pretty representation of most python objects if you just put the name\n",
    "#we can see that the full text of each reddit comment is provided in the \"text\" column\n",
    "mich"
   ]
  },
  {
   "cell_type": "code",
   "execution_count": 56,
   "metadata": {},
   "outputs": [],
   "source": [
    "#this is a function that does some light cleaning, by removing newline characters, converting to lowercase, and removing punctuation\n",
    "\n",
    "def clean(text):\n",
    "    #remove newline and space characters\n",
    "    text = ' '.join(text.split())\n",
    "    #convert the text to lowercase\n",
    "    text = text.lower()\n",
    "    #remove punctuation\n",
    "    text = ''.join([char for char in text if char.isalpha() or char.isspace()])\n",
    "    return text"
   ]
  },
  {
   "cell_type": "code",
   "execution_count": 57,
   "metadata": {},
   "outputs": [],
   "source": [
    "#pandas allows us to quickly apply this cleaning function to all rows in a column\n",
    "mich['cleaned_text'] = mich['text'].apply(clean)"
   ]
  },
  {
   "cell_type": "code",
   "execution_count": 58,
   "metadata": {},
   "outputs": [
    {
     "data": {
      "text/plain": [
       "'zingermans has a nice reuben pretty pricey but the sammies are pretty big'"
      ]
     },
     "execution_count": 58,
     "metadata": {},
     "output_type": "execute_result"
    }
   ],
   "source": [
    "#we can see the first comment after cleaning vs before\n",
    "mich[\"cleaned_text\"][0]"
   ]
  },
  {
   "cell_type": "code",
   "execution_count": 59,
   "metadata": {},
   "outputs": [
    {
     "data": {
      "text/plain": [
       "'Zingermans has a nice reuben, pretty pricey but the sammies are pretty big'"
      ]
     },
     "execution_count": 59,
     "metadata": {},
     "output_type": "execute_result"
    }
   ],
   "source": [
    "mich[\"text\"][0]"
   ]
  },
  {
   "cell_type": "code",
   "execution_count": 60,
   "metadata": {},
   "outputs": [],
   "source": [
    "#create a bag of words representation with count vectorizer\n",
    "vectorizer = CountVectorizer()\n",
    "bag_of_words = vectorizer.fit_transform(mich['cleaned_text'])"
   ]
  },
  {
   "cell_type": "code",
   "execution_count": 61,
   "metadata": {},
   "outputs": [
    {
     "data": {
      "text/plain": [
       "<8339x15289 sparse matrix of type '<class 'numpy.int64'>'\n",
       "\twith 221217 stored elements in Compressed Sparse Row format>"
      ]
     },
     "execution_count": 61,
     "metadata": {},
     "output_type": "execute_result"
    }
   ],
   "source": [
    "#this is a sparse matrix, which is a more efficient way to store a matrix with many zeros\n",
    "#the matrix has 8339 rows (one for each comment) and 15289 columns (one for each unique word in the dataset)\n",
    "bag_of_words"
   ]
  },
  {
   "cell_type": "code",
   "execution_count": 62,
   "metadata": {},
   "outputs": [
    {
     "data": {
      "text/html": [
       "<div>\n",
       "<style scoped>\n",
       "    .dataframe tbody tr th:only-of-type {\n",
       "        vertical-align: middle;\n",
       "    }\n",
       "\n",
       "    .dataframe tbody tr th {\n",
       "        vertical-align: top;\n",
       "    }\n",
       "\n",
       "    .dataframe thead th {\n",
       "        text-align: right;\n",
       "    }\n",
       "</style>\n",
       "<table border=\"1\" class=\"dataframe\">\n",
       "  <thead>\n",
       "    <tr style=\"text-align: right;\">\n",
       "      <th></th>\n",
       "      <th>aa</th>\n",
       "      <th>aadl</th>\n",
       "      <th>aapd</th>\n",
       "      <th>aata</th>\n",
       "      <th>ab</th>\n",
       "      <th>abab</th>\n",
       "      <th>abandon</th>\n",
       "      <th>abandoned</th>\n",
       "      <th>abbreviation</th>\n",
       "      <th>abbreviations</th>\n",
       "      <th>...</th>\n",
       "      <th>zoned</th>\n",
       "      <th>zones</th>\n",
       "      <th>zoning</th>\n",
       "      <th>zoo</th>\n",
       "      <th>zoom</th>\n",
       "      <th>zoomer</th>\n",
       "      <th>zoomers</th>\n",
       "      <th>zuckerberg</th>\n",
       "      <th>𝓲𝓷𝓼𝓮𝓬𝓾𝓻𝓮</th>\n",
       "      <th>𝘢𝘩𝘦𝘮</th>\n",
       "    </tr>\n",
       "  </thead>\n",
       "  <tbody>\n",
       "    <tr>\n",
       "      <th>0</th>\n",
       "      <td>0</td>\n",
       "      <td>0</td>\n",
       "      <td>0</td>\n",
       "      <td>0</td>\n",
       "      <td>0</td>\n",
       "      <td>0</td>\n",
       "      <td>0</td>\n",
       "      <td>0</td>\n",
       "      <td>0</td>\n",
       "      <td>0</td>\n",
       "      <td>...</td>\n",
       "      <td>0</td>\n",
       "      <td>0</td>\n",
       "      <td>0</td>\n",
       "      <td>0</td>\n",
       "      <td>0</td>\n",
       "      <td>0</td>\n",
       "      <td>0</td>\n",
       "      <td>0</td>\n",
       "      <td>0</td>\n",
       "      <td>0</td>\n",
       "    </tr>\n",
       "    <tr>\n",
       "      <th>1</th>\n",
       "      <td>0</td>\n",
       "      <td>0</td>\n",
       "      <td>0</td>\n",
       "      <td>0</td>\n",
       "      <td>0</td>\n",
       "      <td>0</td>\n",
       "      <td>0</td>\n",
       "      <td>0</td>\n",
       "      <td>0</td>\n",
       "      <td>0</td>\n",
       "      <td>...</td>\n",
       "      <td>0</td>\n",
       "      <td>0</td>\n",
       "      <td>0</td>\n",
       "      <td>0</td>\n",
       "      <td>0</td>\n",
       "      <td>0</td>\n",
       "      <td>0</td>\n",
       "      <td>0</td>\n",
       "      <td>0</td>\n",
       "      <td>0</td>\n",
       "    </tr>\n",
       "    <tr>\n",
       "      <th>2</th>\n",
       "      <td>0</td>\n",
       "      <td>0</td>\n",
       "      <td>0</td>\n",
       "      <td>0</td>\n",
       "      <td>0</td>\n",
       "      <td>0</td>\n",
       "      <td>0</td>\n",
       "      <td>0</td>\n",
       "      <td>0</td>\n",
       "      <td>0</td>\n",
       "      <td>...</td>\n",
       "      <td>0</td>\n",
       "      <td>0</td>\n",
       "      <td>0</td>\n",
       "      <td>0</td>\n",
       "      <td>0</td>\n",
       "      <td>0</td>\n",
       "      <td>0</td>\n",
       "      <td>0</td>\n",
       "      <td>0</td>\n",
       "      <td>0</td>\n",
       "    </tr>\n",
       "    <tr>\n",
       "      <th>3</th>\n",
       "      <td>0</td>\n",
       "      <td>0</td>\n",
       "      <td>0</td>\n",
       "      <td>0</td>\n",
       "      <td>0</td>\n",
       "      <td>0</td>\n",
       "      <td>0</td>\n",
       "      <td>0</td>\n",
       "      <td>0</td>\n",
       "      <td>0</td>\n",
       "      <td>...</td>\n",
       "      <td>0</td>\n",
       "      <td>0</td>\n",
       "      <td>0</td>\n",
       "      <td>0</td>\n",
       "      <td>0</td>\n",
       "      <td>0</td>\n",
       "      <td>0</td>\n",
       "      <td>0</td>\n",
       "      <td>0</td>\n",
       "      <td>0</td>\n",
       "    </tr>\n",
       "    <tr>\n",
       "      <th>4</th>\n",
       "      <td>0</td>\n",
       "      <td>0</td>\n",
       "      <td>0</td>\n",
       "      <td>0</td>\n",
       "      <td>0</td>\n",
       "      <td>0</td>\n",
       "      <td>0</td>\n",
       "      <td>0</td>\n",
       "      <td>0</td>\n",
       "      <td>0</td>\n",
       "      <td>...</td>\n",
       "      <td>0</td>\n",
       "      <td>0</td>\n",
       "      <td>0</td>\n",
       "      <td>0</td>\n",
       "      <td>0</td>\n",
       "      <td>0</td>\n",
       "      <td>0</td>\n",
       "      <td>0</td>\n",
       "      <td>0</td>\n",
       "      <td>0</td>\n",
       "    </tr>\n",
       "    <tr>\n",
       "      <th>...</th>\n",
       "      <td>...</td>\n",
       "      <td>...</td>\n",
       "      <td>...</td>\n",
       "      <td>...</td>\n",
       "      <td>...</td>\n",
       "      <td>...</td>\n",
       "      <td>...</td>\n",
       "      <td>...</td>\n",
       "      <td>...</td>\n",
       "      <td>...</td>\n",
       "      <td>...</td>\n",
       "      <td>...</td>\n",
       "      <td>...</td>\n",
       "      <td>...</td>\n",
       "      <td>...</td>\n",
       "      <td>...</td>\n",
       "      <td>...</td>\n",
       "      <td>...</td>\n",
       "      <td>...</td>\n",
       "      <td>...</td>\n",
       "      <td>...</td>\n",
       "    </tr>\n",
       "    <tr>\n",
       "      <th>8334</th>\n",
       "      <td>0</td>\n",
       "      <td>0</td>\n",
       "      <td>0</td>\n",
       "      <td>0</td>\n",
       "      <td>0</td>\n",
       "      <td>0</td>\n",
       "      <td>0</td>\n",
       "      <td>0</td>\n",
       "      <td>0</td>\n",
       "      <td>0</td>\n",
       "      <td>...</td>\n",
       "      <td>0</td>\n",
       "      <td>0</td>\n",
       "      <td>0</td>\n",
       "      <td>0</td>\n",
       "      <td>0</td>\n",
       "      <td>0</td>\n",
       "      <td>0</td>\n",
       "      <td>0</td>\n",
       "      <td>0</td>\n",
       "      <td>0</td>\n",
       "    </tr>\n",
       "    <tr>\n",
       "      <th>8335</th>\n",
       "      <td>0</td>\n",
       "      <td>0</td>\n",
       "      <td>0</td>\n",
       "      <td>0</td>\n",
       "      <td>0</td>\n",
       "      <td>0</td>\n",
       "      <td>0</td>\n",
       "      <td>0</td>\n",
       "      <td>0</td>\n",
       "      <td>0</td>\n",
       "      <td>...</td>\n",
       "      <td>0</td>\n",
       "      <td>0</td>\n",
       "      <td>0</td>\n",
       "      <td>0</td>\n",
       "      <td>0</td>\n",
       "      <td>0</td>\n",
       "      <td>0</td>\n",
       "      <td>0</td>\n",
       "      <td>0</td>\n",
       "      <td>0</td>\n",
       "    </tr>\n",
       "    <tr>\n",
       "      <th>8336</th>\n",
       "      <td>0</td>\n",
       "      <td>0</td>\n",
       "      <td>0</td>\n",
       "      <td>0</td>\n",
       "      <td>0</td>\n",
       "      <td>0</td>\n",
       "      <td>0</td>\n",
       "      <td>0</td>\n",
       "      <td>0</td>\n",
       "      <td>0</td>\n",
       "      <td>...</td>\n",
       "      <td>0</td>\n",
       "      <td>0</td>\n",
       "      <td>0</td>\n",
       "      <td>0</td>\n",
       "      <td>0</td>\n",
       "      <td>0</td>\n",
       "      <td>0</td>\n",
       "      <td>0</td>\n",
       "      <td>0</td>\n",
       "      <td>0</td>\n",
       "    </tr>\n",
       "    <tr>\n",
       "      <th>8337</th>\n",
       "      <td>0</td>\n",
       "      <td>0</td>\n",
       "      <td>0</td>\n",
       "      <td>0</td>\n",
       "      <td>0</td>\n",
       "      <td>0</td>\n",
       "      <td>0</td>\n",
       "      <td>0</td>\n",
       "      <td>0</td>\n",
       "      <td>0</td>\n",
       "      <td>...</td>\n",
       "      <td>0</td>\n",
       "      <td>0</td>\n",
       "      <td>0</td>\n",
       "      <td>0</td>\n",
       "      <td>0</td>\n",
       "      <td>0</td>\n",
       "      <td>0</td>\n",
       "      <td>0</td>\n",
       "      <td>0</td>\n",
       "      <td>0</td>\n",
       "    </tr>\n",
       "    <tr>\n",
       "      <th>8338</th>\n",
       "      <td>0</td>\n",
       "      <td>0</td>\n",
       "      <td>0</td>\n",
       "      <td>0</td>\n",
       "      <td>0</td>\n",
       "      <td>0</td>\n",
       "      <td>0</td>\n",
       "      <td>0</td>\n",
       "      <td>0</td>\n",
       "      <td>0</td>\n",
       "      <td>...</td>\n",
       "      <td>0</td>\n",
       "      <td>0</td>\n",
       "      <td>0</td>\n",
       "      <td>0</td>\n",
       "      <td>0</td>\n",
       "      <td>0</td>\n",
       "      <td>0</td>\n",
       "      <td>0</td>\n",
       "      <td>0</td>\n",
       "      <td>0</td>\n",
       "    </tr>\n",
       "  </tbody>\n",
       "</table>\n",
       "<p>8339 rows × 15289 columns</p>\n",
       "</div>"
      ],
      "text/plain": [
       "      aa  aadl  aapd  aata  ab  abab  abandon  abandoned  abbreviation  \\\n",
       "0      0     0     0     0   0     0        0          0             0   \n",
       "1      0     0     0     0   0     0        0          0             0   \n",
       "2      0     0     0     0   0     0        0          0             0   \n",
       "3      0     0     0     0   0     0        0          0             0   \n",
       "4      0     0     0     0   0     0        0          0             0   \n",
       "...   ..   ...   ...   ...  ..   ...      ...        ...           ...   \n",
       "8334   0     0     0     0   0     0        0          0             0   \n",
       "8335   0     0     0     0   0     0        0          0             0   \n",
       "8336   0     0     0     0   0     0        0          0             0   \n",
       "8337   0     0     0     0   0     0        0          0             0   \n",
       "8338   0     0     0     0   0     0        0          0             0   \n",
       "\n",
       "      abbreviations  ...  zoned  zones  zoning  zoo  zoom  zoomer  zoomers  \\\n",
       "0                 0  ...      0      0       0    0     0       0        0   \n",
       "1                 0  ...      0      0       0    0     0       0        0   \n",
       "2                 0  ...      0      0       0    0     0       0        0   \n",
       "3                 0  ...      0      0       0    0     0       0        0   \n",
       "4                 0  ...      0      0       0    0     0       0        0   \n",
       "...             ...  ...    ...    ...     ...  ...   ...     ...      ...   \n",
       "8334              0  ...      0      0       0    0     0       0        0   \n",
       "8335              0  ...      0      0       0    0     0       0        0   \n",
       "8336              0  ...      0      0       0    0     0       0        0   \n",
       "8337              0  ...      0      0       0    0     0       0        0   \n",
       "8338              0  ...      0      0       0    0     0       0        0   \n",
       "\n",
       "      zuckerberg  𝓲𝓷𝓼𝓮𝓬𝓾𝓻𝓮  𝘢𝘩𝘦𝘮  \n",
       "0              0         0     0  \n",
       "1              0         0     0  \n",
       "2              0         0     0  \n",
       "3              0         0     0  \n",
       "4              0         0     0  \n",
       "...          ...       ...   ...  \n",
       "8334           0         0     0  \n",
       "8335           0         0     0  \n",
       "8336           0         0     0  \n",
       "8337           0         0     0  \n",
       "8338           0         0     0  \n",
       "\n",
       "[8339 rows x 15289 columns]"
      ]
     },
     "execution_count": 62,
     "metadata": {},
     "output_type": "execute_result"
    }
   ],
   "source": [
    "#create a dataframe from the sparse matrix\n",
    "#this is a more human-readable way to view the data\n",
    "bow_df = pd.DataFrame(bag_of_words.toarray(), columns=vectorizer.get_feature_names_out())\n",
    "bow_df"
   ]
  },
  {
   "cell_type": "code",
   "execution_count": 63,
   "metadata": {},
   "outputs": [
    {
     "data": {
      "text/plain": [
       "the            11306\n",
       "to              8480\n",
       "and             6921\n",
       "you             6256\n",
       "of              5028\n",
       "               ...  \n",
       "journals           1\n",
       "journeywhen        1\n",
       "jpg                1\n",
       "js                 1\n",
       "𝘢𝘩𝘦𝘮               1\n",
       "Length: 15289, dtype: int64"
      ]
     },
     "execution_count": 63,
     "metadata": {},
     "output_type": "execute_result"
    }
   ],
   "source": [
    "#dataframes have a convenient method for summing the values in each column\n",
    "#this will give us the number of times each word appears in the dataset\n",
    "word_counts = bow_df.sum()\n",
    "#we can sort the values to see the most common words\n",
    "word_counts = word_counts.sort_values(ascending=False)\n",
    "\n",
    "#notice that the top words are not very informative, as they are common words that appear in many contexts\n",
    "#and bottom words include a lot of typos and other noise\n",
    "word_counts"
   ]
  },
  {
   "cell_type": "code",
   "execution_count": 64,
   "metadata": {},
   "outputs": [
    {
     "data": {
      "image/png": "[encoded data removed]",
      "text/plain": [
       "<Figure size 2000x1000 with 1 Axes>"
      ]
     },
     "metadata": {},
     "output_type": "display_data"
    }
   ],
   "source": [
    "#we can plot the most common words\n",
    "#we will only plot the top 10 words for readability\n",
    "word_counts = word_counts.head(10)\n",
    "plt.figure(figsize=(20,10))\n",
    "plt.bar(word_counts.index, word_counts.values)\n",
    "plt.xticks(rotation=45)\n",
    "plt.show()"
   ]
  },
  {
   "cell_type": "markdown",
   "metadata": {},
   "source": [
    "#### Question 1: what do you notice about the words in this plot? Is this useful for studying the community?"
   ]
  },
  {
   "cell_type": "markdown",
   "metadata": {},
   "source": [
    "Answer here: \n",
    "\n",
    "I notice that the word \"the\" is being used greatly more than all the other words that are being observed. In terms of numerical backing behind what I noticed of this plot, the word \"the\" is used over 10000 times compared to the word \"to\", which was used slightly above 8000, and the word \"and\", which was used slightly above 6000. Additionally, the words on the above plot shows a sharp decline of common words used, which highlights the commonly used words that are on the left and the least common used words on the right. Also, the plot above also shows the steady decline of the words that are used in the least common in the sentences derived from the dataset.\n",
    "\n",
    "\n",
    "This is indeed very useful for studying the community, as this shows what type of words that are being used more commonly in a certain community."
   ]
  },
  {
   "cell_type": "markdown",
   "metadata": {},
   "source": [
    "#### Lemmatization and stopword removal"
   ]
  },
  {
   "cell_type": "code",
   "execution_count": 65,
   "metadata": {},
   "outputs": [],
   "source": [
    "#lemmatization function from the openclassrooms reading\n",
    "def lemmatize(text):\n",
    "\n",
    "   doc = language_model(text)\n",
    "\n",
    "   tokens = [token.lemma_ for token in doc if not (token.is_stop or token.is_punct)]\n",
    "\n",
    "   return ' '.join(tokens)"
   ]
  },
  {
   "cell_type": "code",
   "execution_count": 66,
   "metadata": {},
   "outputs": [],
   "source": [
    "#we can further process the text by removing stopwords and lemmatizing\n",
    "mich['lemmatized_text'] = mich['cleaned_text'].apply(lemmatize)"
   ]
  },
  {
   "cell_type": "code",
   "execution_count": 67,
   "metadata": {},
   "outputs": [],
   "source": [
    "#count vectorizer also has parameters min_df and max_df that can be used to filter out words that are too rare or too common\n",
    "#min_df=3 means that a word must appear in at least 3 documents to be included, this will remove typos and rare words\n",
    "#max_df=0.3 means that a word must appear in at most 30% of documents to be included, this will remove corpus-specific stopwords\n",
    "\n",
    "#we are also able to include n-grams in the count vectorizer\n",
    "#n-grams are sequences of n words that appear together in the text\n",
    "#the n-gram_range parameter specifies the minimum and maximum n-gram size to include (so in this case, we are including both unigrams and bigrams)\n",
    "\n",
    "vectorizer = CountVectorizer(min_df=3, max_df=0.3, ngram_range=(1,2))\n",
    "bag_of_words = vectorizer.fit_transform(mich['lemmatized_text'])"
   ]
  },
  {
   "cell_type": "code",
   "execution_count": 68,
   "metadata": {},
   "outputs": [
    {
     "data": {
      "text/plain": [
       "<8339x8608 sparse matrix of type '<class 'numpy.int64'>'\n",
       "\twith 126768 stored elements in Compressed Sparse Row format>"
      ]
     },
     "execution_count": 68,
     "metadata": {},
     "output_type": "execute_result"
    }
   ],
   "source": [
    "#we can see that we filtered out 11000 common words and typos\n",
    "bag_of_words"
   ]
  },
  {
   "cell_type": "code",
   "execution_count": 69,
   "metadata": {},
   "outputs": [
    {
     "data": {
      "text/plain": [
       "not              2863\n",
       "student          1183\n",
       "like             1183\n",
       "people           1124\n",
       "class             988\n",
       "                 ... \n",
       "club campus         3\n",
       "open not            3\n",
       "open source         3\n",
       "club activity       3\n",
       "luck search         3\n",
       "Length: 8608, dtype: int64"
      ]
     },
     "execution_count": 69,
     "metadata": {},
     "output_type": "execute_result"
    }
   ],
   "source": [
    "#we can repeat the previous code to create a dataframe and count the words\n",
    "bow_df = pd.DataFrame(bag_of_words.toarray(), columns=vectorizer.get_feature_names_out())\n",
    "word_counts = bow_df.sum()\n",
    "word_counts = word_counts.sort_values(ascending=False)\n",
    "word_counts"
   ]
  },
  {
   "cell_type": "code",
   "execution_count": 70,
   "metadata": {},
   "outputs": [],
   "source": [
    "#we can convert this to a percentage instead of an absolute count by dividing by the total number of words\n",
    "word_counts = word_counts / word_counts.sum()"
   ]
  },
  {
   "cell_type": "code",
   "execution_count": 71,
   "metadata": {},
   "outputs": [
    {
     "data": {
      "image/png": "[encoded data removed]",
      "text/plain": [
       "<Figure size 2000x1000 with 1 Axes>"
      ]
     },
     "metadata": {},
     "output_type": "display_data"
    }
   ],
   "source": [
    "#we can plot the most common words\n",
    "#we will only plot the top 10 words for readability\n",
    "plot_list = word_counts.head(10)\n",
    "plt.figure(figsize=(20,10))\n",
    "plt.bar(plot_list.index, plot_list.values)\n",
    "plt.xticks(rotation=45)\n",
    "plt.show()"
   ]
  },
  {
   "cell_type": "code",
   "execution_count": 72,
   "metadata": {},
   "outputs": [
    {
     "data": {
      "text/plain": [
       "4.1400153180566765e-05"
      ]
     },
     "execution_count": 72,
     "metadata": {},
     "output_type": "execute_result"
    }
   ],
   "source": [
    "#pandas allows us to access specific words in the series using the index\n",
    "word_counts[\"student loan\"]"
   ]
  },
  {
   "cell_type": "code",
   "execution_count": 73,
   "metadata": {},
   "outputs": [
    {
     "data": {
      "text/plain": [
       "history             0.000352\n",
       "business            0.000600\n",
       "computer science    0.000035\n",
       "cs                  0.001228\n",
       "computer            0.000262\n",
       "dtype: float64"
      ]
     },
     "execution_count": 73,
     "metadata": {},
     "output_type": "execute_result"
    }
   ],
   "source": [
    "#we can also use a list of words to compare and plot specific words\n",
    "plot_list=word_counts[[\"history\", \"business\", \"computer science\", \"cs\", \"computer\"]]\n",
    "plot_list"
   ]
  },
  {
   "cell_type": "code",
   "execution_count": 74,
   "metadata": {},
   "outputs": [
    {
     "data": {
      "image/png": "[encoded data removed]",
      "text/plain": [
       "<Figure size 2000x1000 with 1 Axes>"
      ]
     },
     "metadata": {},
     "output_type": "display_data"
    }
   ],
   "source": [
    "\n",
    "plt.figure(figsize=(20,10))\n",
    "plt.bar(plot_list.index, plot_list.values)\n",
    "plt.xticks(rotation=45)\n",
    "plt.show()"
   ]
  },
  {
   "cell_type": "markdown",
   "metadata": {},
   "source": [
    "#### Question 2:"
   ]
  },
  {
   "cell_type": "code",
   "execution_count": 75,
   "metadata": {},
   "outputs": [],
   "source": [
    "#TODO: pick 5 words that you find interesting or are curious about, and plot a bar plot of their frequency in this dataset "
   ]
  },
  {
   "cell_type": "code",
   "execution_count": 76,
   "metadata": {},
   "outputs": [
    {
     "data": {
      "image/png": "[encoded data removed]",
      "text/plain": [
       "<Figure size 2000x1000 with 1 Axes>"
      ]
     },
     "metadata": {},
     "output_type": "display_data"
    }
   ],
   "source": [
    "five_words = word_counts[['computer science', 'not', 'cs', 'student', 'go']]\n",
    "five_words\n",
    "\n",
    "plt.figure(figsize=(20,10))\n",
    "plt.bar(five_words.index, five_words.values)\n",
    "plt.xticks(rotation=45)\n",
    "plt.show()"
   ]
  },
  {
   "cell_type": "markdown",
   "metadata": {},
   "source": [
    "### Problem 2: repeat this process with the Illinois subreddit data (in this directory as \"uiuc.csv\"). You should not have to change too much in the previous code besides the dataframe path and name. Your notebook should include the two bar graphs including and excluding stopwords. Use the same 5 words and compare their relative frequency between the two subreddits. Discuss any interesting differences you notice in a short markdown cell. "
   ]
  },
  {
   "cell_type": "code",
   "execution_count": 77,
   "metadata": {},
   "outputs": [
    {
     "data": {
      "text/html": [
       "<div>\n",
       "<style scoped>\n",
       "    .dataframe tbody tr th:only-of-type {\n",
       "        vertical-align: middle;\n",
       "    }\n",
       "\n",
       "    .dataframe tbody tr th {\n",
       "        vertical-align: top;\n",
       "    }\n",
       "\n",
       "    .dataframe thead th {\n",
       "        text-align: right;\n",
       "    }\n",
       "</style>\n",
       "<table border=\"1\" class=\"dataframe\">\n",
       "  <thead>\n",
       "    <tr style=\"text-align: right;\">\n",
       "      <th></th>\n",
       "      <th>Unnamed: 0</th>\n",
       "      <th>date</th>\n",
       "      <th>post_votes</th>\n",
       "      <th>text</th>\n",
       "      <th>user</th>\n",
       "      <th>com_votes</th>\n",
       "    </tr>\n",
       "  </thead>\n",
       "  <tbody>\n",
       "    <tr>\n",
       "      <th>0</th>\n",
       "      <td>0</td>\n",
       "      <td>2024-09-04 14:43:40</td>\n",
       "      <td>2</td>\n",
       "      <td>Have the same professor! And in lecture he did...</td>\n",
       "      <td>zhen3441</td>\n",
       "      <td>2</td>\n",
       "    </tr>\n",
       "    <tr>\n",
       "      <th>1</th>\n",
       "      <td>1</td>\n",
       "      <td>2024-09-04 14:43:40</td>\n",
       "      <td>2</td>\n",
       "      <td>Do you find it helpful to still go to the lect...</td>\n",
       "      <td>Kai2747</td>\n",
       "      <td>1</td>\n",
       "    </tr>\n",
       "    <tr>\n",
       "      <th>2</th>\n",
       "      <td>2</td>\n",
       "      <td>2024-09-04 12:52:08</td>\n",
       "      <td>3</td>\n",
       "      <td>Have you tried emailing University Housing to ...</td>\n",
       "      <td>TurboBKTastic</td>\n",
       "      <td>2</td>\n",
       "    </tr>\n",
       "    <tr>\n",
       "      <th>3</th>\n",
       "      <td>3</td>\n",
       "      <td>2024-09-04 12:52:08</td>\n",
       "      <td>3</td>\n",
       "      <td>Purchasing Illini Cash should get you added to...</td>\n",
       "      <td>HoosierCAB</td>\n",
       "      <td>2</td>\n",
       "    </tr>\n",
       "    <tr>\n",
       "      <th>4</th>\n",
       "      <td>4</td>\n",
       "      <td>2024-09-04 12:52:08</td>\n",
       "      <td>3</td>\n",
       "      <td>Just did, thanks for the suggestion! It hadn't...</td>\n",
       "      <td>Sector-Both</td>\n",
       "      <td>1</td>\n",
       "    </tr>\n",
       "    <tr>\n",
       "      <th>...</th>\n",
       "      <td>...</td>\n",
       "      <td>...</td>\n",
       "      <td>...</td>\n",
       "      <td>...</td>\n",
       "      <td>...</td>\n",
       "      <td>...</td>\n",
       "    </tr>\n",
       "    <tr>\n",
       "      <th>4720</th>\n",
       "      <td>4720</td>\n",
       "      <td>2024-08-21 20:28:40</td>\n",
       "      <td>1</td>\n",
       "      <td>Im interested if you're still looking</td>\n",
       "      <td>Accomplished_Fix2409</td>\n",
       "      <td>0</td>\n",
       "    </tr>\n",
       "    <tr>\n",
       "      <th>4721</th>\n",
       "      <td>4721</td>\n",
       "      <td>2024-08-21 20:26:15</td>\n",
       "      <td>7</td>\n",
       "      <td>I went to one of the taylor nights. was quite ...</td>\n",
       "      <td>student176895</td>\n",
       "      <td>4</td>\n",
       "    </tr>\n",
       "    <tr>\n",
       "      <th>4722</th>\n",
       "      <td>4722</td>\n",
       "      <td>2024-08-21 20:21:54</td>\n",
       "      <td>10</td>\n",
       "      <td>Hey, I’m so sorry to hear that’s happening. If...</td>\n",
       "      <td>OCCLUIUC</td>\n",
       "      <td>5</td>\n",
       "    </tr>\n",
       "    <tr>\n",
       "      <th>4723</th>\n",
       "      <td>4723</td>\n",
       "      <td>2024-08-21 20:21:54</td>\n",
       "      <td>10</td>\n",
       "      <td>AFAIK, the “cleaning company” that UGroup empl...</td>\n",
       "      <td>perpetuallytired29</td>\n",
       "      <td>3</td>\n",
       "    </tr>\n",
       "    <tr>\n",
       "      <th>4724</th>\n",
       "      <td>4724</td>\n",
       "      <td>2024-08-21 20:21:54</td>\n",
       "      <td>10</td>\n",
       "      <td>thank god it wasn't a half dirty towel</td>\n",
       "      <td>Traditional_Half5199</td>\n",
       "      <td>0</td>\n",
       "    </tr>\n",
       "  </tbody>\n",
       "</table>\n",
       "<p>4725 rows × 6 columns</p>\n",
       "</div>"
      ],
      "text/plain": [
       "      Unnamed: 0                 date  post_votes  \\\n",
       "0              0  2024-09-04 14:43:40           2   \n",
       "1              1  2024-09-04 14:43:40           2   \n",
       "2              2  2024-09-04 12:52:08           3   \n",
       "3              3  2024-09-04 12:52:08           3   \n",
       "4              4  2024-09-04 12:52:08           3   \n",
       "...          ...                  ...         ...   \n",
       "4720        4720  2024-08-21 20:28:40           1   \n",
       "4721        4721  2024-08-21 20:26:15           7   \n",
       "4722        4722  2024-08-21 20:21:54          10   \n",
       "4723        4723  2024-08-21 20:21:54          10   \n",
       "4724        4724  2024-08-21 20:21:54          10   \n",
       "\n",
       "                                                   text                  user  \\\n",
       "0     Have the same professor! And in lecture he did...              zhen3441   \n",
       "1     Do you find it helpful to still go to the lect...               Kai2747   \n",
       "2     Have you tried emailing University Housing to ...         TurboBKTastic   \n",
       "3     Purchasing Illini Cash should get you added to...            HoosierCAB   \n",
       "4     Just did, thanks for the suggestion! It hadn't...           Sector-Both   \n",
       "...                                                 ...                   ...   \n",
       "4720              Im interested if you're still looking  Accomplished_Fix2409   \n",
       "4721  I went to one of the taylor nights. was quite ...         student176895   \n",
       "4722  Hey, I’m so sorry to hear that’s happening. If...              OCCLUIUC   \n",
       "4723  AFAIK, the “cleaning company” that UGroup empl...    perpetuallytired29   \n",
       "4724             thank god it wasn't a half dirty towel  Traditional_Half5199   \n",
       "\n",
       "      com_votes  \n",
       "0             2  \n",
       "1             1  \n",
       "2             2  \n",
       "3             2  \n",
       "4             1  \n",
       "...         ...  \n",
       "4720          0  \n",
       "4721          4  \n",
       "4722          5  \n",
       "4723          3  \n",
       "4724          0  \n",
       "\n",
       "[4725 rows x 6 columns]"
      ]
     },
     "execution_count": 77,
     "metadata": {},
     "output_type": "execute_result"
    }
   ],
   "source": [
    "uiuc=pd.read_csv(\"uiuc.csv\")\n",
    "uiuc"
   ]
  },
  {
   "cell_type": "code",
   "execution_count": 78,
   "metadata": {
    "vscode": {
     "languageId": "ruby"
    }
   },
   "outputs": [
    {
     "data": {
      "image/png": "[encoded data removed]",
      "text/plain": [
       "<Figure size 2000x1000 with 1 Axes>"
      ]
     },
     "metadata": {},
     "output_type": "display_data"
    },
    {
     "data": {
      "image/png": "[encoded data removed]",
      "text/plain": [
       "<Figure size 2000x1000 with 1 Axes>"
      ]
     },
     "metadata": {},
     "output_type": "display_data"
    }
   ],
   "source": [
    "uiuc = pd.read_csv(\"uiuc.csv\")\n",
    "\n",
    "\n",
    "uiuc['cleaned_text'] = uiuc['text'].apply(clean)\n",
    "\n",
    "uiuc['lemmatized_text'] = uiuc['cleaned_text'].apply(lemmatize)\n",
    "\n",
    "vectorizer = CountVectorizer(min_df=3, max_df=0.3, ngram_range=(1,2))\n",
    "bag_of_words_uiuc = vectorizer.fit_transform(uiuc['lemmatized_text'])\n",
    "\n",
    "bow_df_uiuc = pd.DataFrame(bag_of_words_uiuc.toarray(), columns=vectorizer.get_feature_names_out())\n",
    "\n",
    "word_counts_uiuc = bow_df_uiuc.sum()\n",
    "word_counts_uiuc = word_counts_uiuc.sort_values(ascending=False)\n",
    "\n",
    "word_counts_uiuc = word_counts_uiuc / word_counts_uiuc.sum()\n",
    "\n",
    "plot_list_uiuc = word_counts_uiuc.head(10)\n",
    "plt.figure(figsize=(20,10))\n",
    "plt.bar(plot_list_uiuc.index, plot_list_uiuc.values)\n",
    "plt.xticks(rotation=45)\n",
    "plt.show()\n",
    "\n",
    "five_words_uiuc = word_counts_uiuc[['computer science', 'not', 'cs', 'student', 'go']]\n",
    "plt.figure(figsize=(20,10))\n",
    "plt.bar(five_words_uiuc.index, five_words_uiuc.values)\n",
    "plt.xticks(rotation=45)\n",
    "plt.show()"
   ]
  },
  {
   "cell_type": "markdown",
   "metadata": {},
   "source": [
    "This section is where I used the Copilot"
   ]
  },
  {
   "cell_type": "markdown",
   "metadata": {},
   "source": [
    "### Problem 3: using the provided combined dataframe, train a logistic regression model using the sklearn Logistic Regression implementation. https://scikit-learn.org/stable/modules/generated/sklearn.linear_model.LogisticRegression.html. Create a bag of words table from the combined data, and use that along with the \"label\" column to train the classifier. Please try this out and be prepared with issues or questions next Monday. We will be discussing in class"
   ]
  },
  {
   "cell_type": "code",
   "execution_count": 79,
   "metadata": {},
   "outputs": [],
   "source": [
    "uiuc=pd.read_csv(\"uiuc.csv\")\n",
    "mich=pd.read_csv(\"umich.csv\")\n",
    "\n",
    "#sample so we have even number of samples from each dataset\n",
    "mich=mich.sample(n=4725)\n",
    "\n",
    "#assign labels based on origin subreddit of comment\n",
    "uiuc['label']=1\n",
    "mich['label']=0\n",
    "\n",
    "#you will be working with the data csv for the rest of the question\n",
    "data=pd.concat([uiuc,mich])"
   ]
  },
  {
   "cell_type": "code",
   "execution_count": 80,
   "metadata": {},
   "outputs": [],
   "source": [
    "#clean and lemmatize the data csv\n",
    "data['cleaned_text'] = data['text'].apply(clean)\n",
    "\n",
    "data['lemmatized_text'] = data['cleaned_text'].apply(lemmatize)"
   ]
  },
  {
   "cell_type": "code",
   "execution_count": 81,
   "metadata": {},
   "outputs": [],
   "source": [
    "#create a bag of words representation with count vectorizer\n",
    "vectorizer = CountVectorizer(min_df=3, max_df=0.3, ngram_range=(1,2))\n",
    "\n",
    "bag_of_words_data = vectorizer.fit_transform(data['lemmatized_text'])"
   ]
  },
  {
   "cell_type": "code",
   "execution_count": 82,
   "metadata": {},
   "outputs": [
    {
     "data": {
      "text/html": [
       "<style>#sk-container-id-2 {\n",
       "  /* Definition of color scheme common for light and dark mode */\n",
       "  --sklearn-color-text: #000;\n",
       "  --sklearn-color-text-muted: #666;\n",
       "  --sklearn-color-line: gray;\n",
       "  /* Definition of color scheme for unfitted estimators */\n",
       "  --sklearn-color-unfitted-level-0: #fff5e6;\n",
       "  --sklearn-color-unfitted-level-1: #f6e4d2;\n",
       "  --sklearn-color-unfitted-level-2: #ffe0b3;\n",
       "  --sklearn-color-unfitted-level-3: chocolate;\n",
       "  /* Definition of color scheme for fitted estimators */\n",
       "  --sklearn-color-fitted-level-0: #f0f8ff;\n",
       "  --sklearn-color-fitted-level-1: #d4ebff;\n",
       "  --sklearn-color-fitted-level-2: #b3dbfd;\n",
       "  --sklearn-color-fitted-level-3: cornflowerblue;\n",
       "\n",
       "  /* Specific color for light theme */\n",
       "  --sklearn-color-text-on-default-background: var(--sg-text-color, var(--theme-code-foreground, var(--jp-content-font-color1, black)));\n",
       "  --sklearn-color-background: var(--sg-background-color, var(--theme-background, var(--jp-layout-color0, white)));\n",
       "  --sklearn-color-border-box: var(--sg-text-color, var(--theme-code-foreground, var(--jp-content-font-color1, black)));\n",
       "  --sklearn-color-icon: #696969;\n",
       "\n",
       "  @media (prefers-color-scheme: dark) {\n",
       "    /* Redefinition of color scheme for dark theme */\n",
       "    --sklearn-color-text-on-default-background: var(--sg-text-color, var(--theme-code-foreground, var(--jp-content-font-color1, white)));\n",
       "    --sklearn-color-background: var(--sg-background-color, var(--theme-background, var(--jp-layout-color0, #111)));\n",
       "    --sklearn-color-border-box: var(--sg-text-color, var(--theme-code-foreground, var(--jp-content-font-color1, white)));\n",
       "    --sklearn-color-icon: #878787;\n",
       "  }\n",
       "}\n",
       "\n",
       "#sk-container-id-2 {\n",
       "  color: var(--sklearn-color-text);\n",
       "}\n",
       "\n",
       "#sk-container-id-2 pre {\n",
       "  padding: 0;\n",
       "}\n",
       "\n",
       "#sk-container-id-2 input.sk-hidden--visually {\n",
       "  border: 0;\n",
       "  clip: rect(1px 1px 1px 1px);\n",
       "  clip: rect(1px, 1px, 1px, 1px);\n",
       "  height: 1px;\n",
       "  margin: -1px;\n",
       "  overflow: hidden;\n",
       "  padding: 0;\n",
       "  position: absolute;\n",
       "  width: 1px;\n",
       "}\n",
       "\n",
       "#sk-container-id-2 div.sk-dashed-wrapped {\n",
       "  border: 1px dashed var(--sklearn-color-line);\n",
       "  margin: 0 0.4em 0.5em 0.4em;\n",
       "  box-sizing: border-box;\n",
       "  padding-bottom: 0.4em;\n",
       "  background-color: var(--sklearn-color-background);\n",
       "}\n",
       "\n",
       "#sk-container-id-2 div.sk-container {\n",
       "  /* jupyter's `normalize.less` sets `[hidden] { display: none; }`\n",
       "     but bootstrap.min.css set `[hidden] { display: none !important; }`\n",
       "     so we also need the `!important` here to be able to override the\n",
       "     default hidden behavior on the sphinx rendered scikit-learn.org.\n",
       "     See: https://github.com/scikit-learn/scikit-learn/issues/21755 */\n",
       "  display: inline-block !important;\n",
       "  position: relative;\n",
       "}\n",
       "\n",
       "#sk-container-id-2 div.sk-text-repr-fallback {\n",
       "  display: none;\n",
       "}\n",
       "\n",
       "div.sk-parallel-item,\n",
       "div.sk-serial,\n",
       "div.sk-item {\n",
       "  /* draw centered vertical line to link estimators */\n",
       "  background-image: linear-gradient(var(--sklearn-color-text-on-default-background), var(--sklearn-color-text-on-default-background));\n",
       "  background-size: 2px 100%;\n",
       "  background-repeat: no-repeat;\n",
       "  background-position: center center;\n",
       "}\n",
       "\n",
       "/* Parallel-specific style estimator block */\n",
       "\n",
       "#sk-container-id-2 div.sk-parallel-item::after {\n",
       "  content: \"\";\n",
       "  width: 100%;\n",
       "  border-bottom: 2px solid var(--sklearn-color-text-on-default-background);\n",
       "  flex-grow: 1;\n",
       "}\n",
       "\n",
       "#sk-container-id-2 div.sk-parallel {\n",
       "  display: flex;\n",
       "  align-items: stretch;\n",
       "  justify-content: center;\n",
       "  background-color: var(--sklearn-color-background);\n",
       "  position: relative;\n",
       "}\n",
       "\n",
       "#sk-container-id-2 div.sk-parallel-item {\n",
       "  display: flex;\n",
       "  flex-direction: column;\n",
       "}\n",
       "\n",
       "#sk-container-id-2 div.sk-parallel-item:first-child::after {\n",
       "  align-self: flex-end;\n",
       "  width: 50%;\n",
       "}\n",
       "\n",
       "#sk-container-id-2 div.sk-parallel-item:last-child::after {\n",
       "  align-self: flex-start;\n",
       "  width: 50%;\n",
       "}\n",
       "\n",
       "#sk-container-id-2 div.sk-parallel-item:only-child::after {\n",
       "  width: 0;\n",
       "}\n",
       "\n",
       "/* Serial-specific style estimator block */\n",
       "\n",
       "#sk-container-id-2 div.sk-serial {\n",
       "  display: flex;\n",
       "  flex-direction: column;\n",
       "  align-items: center;\n",
       "  background-color: var(--sklearn-color-background);\n",
       "  padding-right: 1em;\n",
       "  padding-left: 1em;\n",
       "}\n",
       "\n",
       "\n",
       "/* Toggleable style: style used for estimator/Pipeline/ColumnTransformer box that is\n",
       "clickable and can be expanded/collapsed.\n",
       "- Pipeline and ColumnTransformer use this feature and define the default style\n",
       "- Estimators will overwrite some part of the style using the `sk-estimator` class\n",
       "*/\n",
       "\n",
       "/* Pipeline and ColumnTransformer style (default) */\n",
       "\n",
       "#sk-container-id-2 div.sk-toggleable {\n",
       "  /* Default theme specific background. It is overwritten whether we have a\n",
       "  specific estimator or a Pipeline/ColumnTransformer */\n",
       "  background-color: var(--sklearn-color-background);\n",
       "}\n",
       "\n",
       "/* Toggleable label */\n",
       "#sk-container-id-2 label.sk-toggleable__label {\n",
       "  cursor: pointer;\n",
       "  display: flex;\n",
       "  width: 100%;\n",
       "  margin-bottom: 0;\n",
       "  padding: 0.5em;\n",
       "  box-sizing: border-box;\n",
       "  text-align: center;\n",
       "  align-items: start;\n",
       "  justify-content: space-between;\n",
       "  gap: 0.5em;\n",
       "}\n",
       "\n",
       "#sk-container-id-2 label.sk-toggleable__label .caption {\n",
       "  font-size: 0.6rem;\n",
       "  font-weight: lighter;\n",
       "  color: var(--sklearn-color-text-muted);\n",
       "}\n",
       "\n",
       "#sk-container-id-2 label.sk-toggleable__label-arrow:before {\n",
       "  /* Arrow on the left of the label */\n",
       "  content: \"▸\";\n",
       "  float: left;\n",
       "  margin-right: 0.25em;\n",
       "  color: var(--sklearn-color-icon);\n",
       "}\n",
       "\n",
       "#sk-container-id-2 label.sk-toggleable__label-arrow:hover:before {\n",
       "  color: var(--sklearn-color-text);\n",
       "}\n",
       "\n",
       "/* Toggleable content - dropdown */\n",
       "\n",
       "#sk-container-id-2 div.sk-toggleable__content {\n",
       "  max-height: 0;\n",
       "  max-width: 0;\n",
       "  overflow: hidden;\n",
       "  text-align: left;\n",
       "  /* unfitted */\n",
       "  background-color: var(--sklearn-color-unfitted-level-0);\n",
       "}\n",
       "\n",
       "#sk-container-id-2 div.sk-toggleable__content.fitted {\n",
       "  /* fitted */\n",
       "  background-color: var(--sklearn-color-fitted-level-0);\n",
       "}\n",
       "\n",
       "#sk-container-id-2 div.sk-toggleable__content pre {\n",
       "  margin: 0.2em;\n",
       "  border-radius: 0.25em;\n",
       "  color: var(--sklearn-color-text);\n",
       "  /* unfitted */\n",
       "  background-color: var(--sklearn-color-unfitted-level-0);\n",
       "}\n",
       "\n",
       "#sk-container-id-2 div.sk-toggleable__content.fitted pre {\n",
       "  /* unfitted */\n",
       "  background-color: var(--sklearn-color-fitted-level-0);\n",
       "}\n",
       "\n",
       "#sk-container-id-2 input.sk-toggleable__control:checked~div.sk-toggleable__content {\n",
       "  /* Expand drop-down */\n",
       "  max-height: 200px;\n",
       "  max-width: 100%;\n",
       "  overflow: auto;\n",
       "}\n",
       "\n",
       "#sk-container-id-2 input.sk-toggleable__control:checked~label.sk-toggleable__label-arrow:before {\n",
       "  content: \"▾\";\n",
       "}\n",
       "\n",
       "/* Pipeline/ColumnTransformer-specific style */\n",
       "\n",
       "#sk-container-id-2 div.sk-label input.sk-toggleable__control:checked~label.sk-toggleable__label {\n",
       "  color: var(--sklearn-color-text);\n",
       "  background-color: var(--sklearn-color-unfitted-level-2);\n",
       "}\n",
       "\n",
       "#sk-container-id-2 div.sk-label.fitted input.sk-toggleable__control:checked~label.sk-toggleable__label {\n",
       "  background-color: var(--sklearn-color-fitted-level-2);\n",
       "}\n",
       "\n",
       "/* Estimator-specific style */\n",
       "\n",
       "/* Colorize estimator box */\n",
       "#sk-container-id-2 div.sk-estimator input.sk-toggleable__control:checked~label.sk-toggleable__label {\n",
       "  /* unfitted */\n",
       "  background-color: var(--sklearn-color-unfitted-level-2);\n",
       "}\n",
       "\n",
       "#sk-container-id-2 div.sk-estimator.fitted input.sk-toggleable__control:checked~label.sk-toggleable__label {\n",
       "  /* fitted */\n",
       "  background-color: var(--sklearn-color-fitted-level-2);\n",
       "}\n",
       "\n",
       "#sk-container-id-2 div.sk-label label.sk-toggleable__label,\n",
       "#sk-container-id-2 div.sk-label label {\n",
       "  /* The background is the default theme color */\n",
       "  color: var(--sklearn-color-text-on-default-background);\n",
       "}\n",
       "\n",
       "/* On hover, darken the color of the background */\n",
       "#sk-container-id-2 div.sk-label:hover label.sk-toggleable__label {\n",
       "  color: var(--sklearn-color-text);\n",
       "  background-color: var(--sklearn-color-unfitted-level-2);\n",
       "}\n",
       "\n",
       "/* Label box, darken color on hover, fitted */\n",
       "#sk-container-id-2 div.sk-label.fitted:hover label.sk-toggleable__label.fitted {\n",
       "  color: var(--sklearn-color-text);\n",
       "  background-color: var(--sklearn-color-fitted-level-2);\n",
       "}\n",
       "\n",
       "/* Estimator label */\n",
       "\n",
       "#sk-container-id-2 div.sk-label label {\n",
       "  font-family: monospace;\n",
       "  font-weight: bold;\n",
       "  display: inline-block;\n",
       "  line-height: 1.2em;\n",
       "}\n",
       "\n",
       "#sk-container-id-2 div.sk-label-container {\n",
       "  text-align: center;\n",
       "}\n",
       "\n",
       "/* Estimator-specific */\n",
       "#sk-container-id-2 div.sk-estimator {\n",
       "  font-family: monospace;\n",
       "  border: 1px dotted var(--sklearn-color-border-box);\n",
       "  border-radius: 0.25em;\n",
       "  box-sizing: border-box;\n",
       "  margin-bottom: 0.5em;\n",
       "  /* unfitted */\n",
       "  background-color: var(--sklearn-color-unfitted-level-0);\n",
       "}\n",
       "\n",
       "#sk-container-id-2 div.sk-estimator.fitted {\n",
       "  /* fitted */\n",
       "  background-color: var(--sklearn-color-fitted-level-0);\n",
       "}\n",
       "\n",
       "/* on hover */\n",
       "#sk-container-id-2 div.sk-estimator:hover {\n",
       "  /* unfitted */\n",
       "  background-color: var(--sklearn-color-unfitted-level-2);\n",
       "}\n",
       "\n",
       "#sk-container-id-2 div.sk-estimator.fitted:hover {\n",
       "  /* fitted */\n",
       "  background-color: var(--sklearn-color-fitted-level-2);\n",
       "}\n",
       "\n",
       "/* Specification for estimator info (e.g. \"i\" and \"?\") */\n",
       "\n",
       "/* Common style for \"i\" and \"?\" */\n",
       "\n",
       ".sk-estimator-doc-link,\n",
       "a:link.sk-estimator-doc-link,\n",
       "a:visited.sk-estimator-doc-link {\n",
       "  float: right;\n",
       "  font-size: smaller;\n",
       "  line-height: 1em;\n",
       "  font-family: monospace;\n",
       "  background-color: var(--sklearn-color-background);\n",
       "  border-radius: 1em;\n",
       "  height: 1em;\n",
       "  width: 1em;\n",
       "  text-decoration: none !important;\n",
       "  margin-left: 0.5em;\n",
       "  text-align: center;\n",
       "  /* unfitted */\n",
       "  border: var(--sklearn-color-unfitted-level-1) 1pt solid;\n",
       "  color: var(--sklearn-color-unfitted-level-1);\n",
       "}\n",
       "\n",
       ".sk-estimator-doc-link.fitted,\n",
       "a:link.sk-estimator-doc-link.fitted,\n",
       "a:visited.sk-estimator-doc-link.fitted {\n",
       "  /* fitted */\n",
       "  border: var(--sklearn-color-fitted-level-1) 1pt solid;\n",
       "  color: var(--sklearn-color-fitted-level-1);\n",
       "}\n",
       "\n",
       "/* On hover */\n",
       "div.sk-estimator:hover .sk-estimator-doc-link:hover,\n",
       ".sk-estimator-doc-link:hover,\n",
       "div.sk-label-container:hover .sk-estimator-doc-link:hover,\n",
       ".sk-estimator-doc-link:hover {\n",
       "  /* unfitted */\n",
       "  background-color: var(--sklearn-color-unfitted-level-3);\n",
       "  color: var(--sklearn-color-background);\n",
       "  text-decoration: none;\n",
       "}\n",
       "\n",
       "div.sk-estimator.fitted:hover .sk-estimator-doc-link.fitted:hover,\n",
       ".sk-estimator-doc-link.fitted:hover,\n",
       "div.sk-label-container:hover .sk-estimator-doc-link.fitted:hover,\n",
       ".sk-estimator-doc-link.fitted:hover {\n",
       "  /* fitted */\n",
       "  background-color: var(--sklearn-color-fitted-level-3);\n",
       "  color: var(--sklearn-color-background);\n",
       "  text-decoration: none;\n",
       "}\n",
       "\n",
       "/* Span, style for the box shown on hovering the info icon */\n",
       ".sk-estimator-doc-link span {\n",
       "  display: none;\n",
       "  z-index: 9999;\n",
       "  position: relative;\n",
       "  font-weight: normal;\n",
       "  right: .2ex;\n",
       "  padding: .5ex;\n",
       "  margin: .5ex;\n",
       "  width: min-content;\n",
       "  min-width: 20ex;\n",
       "  max-width: 50ex;\n",
       "  color: var(--sklearn-color-text);\n",
       "  box-shadow: 2pt 2pt 4pt #999;\n",
       "  /* unfitted */\n",
       "  background: var(--sklearn-color-unfitted-level-0);\n",
       "  border: .5pt solid var(--sklearn-color-unfitted-level-3);\n",
       "}\n",
       "\n",
       ".sk-estimator-doc-link.fitted span {\n",
       "  /* fitted */\n",
       "  background: var(--sklearn-color-fitted-level-0);\n",
       "  border: var(--sklearn-color-fitted-level-3);\n",
       "}\n",
       "\n",
       ".sk-estimator-doc-link:hover span {\n",
       "  display: block;\n",
       "}\n",
       "\n",
       "/* \"?\"-specific style due to the `<a>` HTML tag */\n",
       "\n",
       "#sk-container-id-2 a.estimator_doc_link {\n",
       "  float: right;\n",
       "  font-size: 1rem;\n",
       "  line-height: 1em;\n",
       "  font-family: monospace;\n",
       "  background-color: var(--sklearn-color-background);\n",
       "  border-radius: 1rem;\n",
       "  height: 1rem;\n",
       "  width: 1rem;\n",
       "  text-decoration: none;\n",
       "  /* unfitted */\n",
       "  color: var(--sklearn-color-unfitted-level-1);\n",
       "  border: var(--sklearn-color-unfitted-level-1) 1pt solid;\n",
       "}\n",
       "\n",
       "#sk-container-id-2 a.estimator_doc_link.fitted {\n",
       "  /* fitted */\n",
       "  border: var(--sklearn-color-fitted-level-1) 1pt solid;\n",
       "  color: var(--sklearn-color-fitted-level-1);\n",
       "}\n",
       "\n",
       "/* On hover */\n",
       "#sk-container-id-2 a.estimator_doc_link:hover {\n",
       "  /* unfitted */\n",
       "  background-color: var(--sklearn-color-unfitted-level-3);\n",
       "  color: var(--sklearn-color-background);\n",
       "  text-decoration: none;\n",
       "}\n",
       "\n",
       "#sk-container-id-2 a.estimator_doc_link.fitted:hover {\n",
       "  /* fitted */\n",
       "  background-color: var(--sklearn-color-fitted-level-3);\n",
       "}\n",
       "</style><div id=\"sk-container-id-2\" class=\"sk-top-container\"><div class=\"sk-text-repr-fallback\"><pre>LogisticRegression(max_iter=1000)</pre><b>In a Jupyter environment, please rerun this cell to show the HTML representation or trust the notebook. <br />On GitHub, the HTML representation is unable to render, please try loading this page with nbviewer.org.</b></div><div class=\"sk-container\" hidden><div class=\"sk-item\"><div class=\"sk-estimator fitted sk-toggleable\"><input class=\"sk-toggleable__control sk-hidden--visually\" id=\"sk-estimator-id-2\" type=\"checkbox\" checked><label for=\"sk-estimator-id-2\" class=\"sk-toggleable__label fitted sk-toggleable__label-arrow\"><div><div>LogisticRegression</div></div><div><a class=\"sk-estimator-doc-link fitted\" rel=\"noreferrer\" target=\"_blank\" href=\"https://scikit-learn.org/1.6/modules/generated/sklearn.linear_model.LogisticRegression.html\">?<span>Documentation for LogisticRegression</span></a><span class=\"sk-estimator-doc-link fitted\">i<span>Fitted</span></span></div></label><div class=\"sk-toggleable__content fitted\"><pre>LogisticRegression(max_iter=1000)</pre></div> </div></div></div></div>"
      ],
      "text/plain": [
       "LogisticRegression(max_iter=1000)"
      ]
     },
     "execution_count": 82,
     "metadata": {},
     "output_type": "execute_result"
    }
   ],
   "source": [
    "from sklearn.linear_model import LogisticRegression\n",
    "\n",
    "X = bag_of_words_data\n",
    "y = data['label']\n",
    "\n",
    "model = LogisticRegression(max_iter=1000)\n",
    "\n",
    "model.fit(X, y)"
   ]
  },
  {
   "cell_type": "markdown",
   "metadata": {},
   "source": [
    "This is the part where I used Github Copilot."
   ]
  },
  {
   "cell_type": "code",
   "execution_count": 83,
   "metadata": {},
   "outputs": [
    {
     "name": "stdout",
     "output_type": "stream",
     "text": [
      "Model Accuracy: 0.8991534391534391\n"
     ]
    }
   ],
   "source": [
    "#report the accuracy of the model\n",
    "accuracy = model.score(X, y)\n",
    "print(f\"Model Accuracy: {accuracy}\")"
   ]
  },
  {
   "cell_type": "markdown",
   "metadata": {},
   "source": [
    "This is the part where I used Github Copilot."
   ]
  },
  {
   "cell_type": "markdown",
   "metadata": {},
   "source": [
    "#### Part 2: hold out part of the dataset using sklearn train_test_split (https://scikit-learn.org/stable/modules/generated/sklearn.model_selection.train_test_split.html). Pass in your previously generated bag of words as X and the label column as y. Use only the X_train and y_train for training and hold out the X_test and y_test to score the model on unseen data."
   ]
  },
  {
   "cell_type": "code",
   "execution_count": 84,
   "metadata": {},
   "outputs": [
    {
     "name": "stdout",
     "output_type": "stream",
     "text": [
      "Test Accuracy: 0.7306878306878307\n"
     ]
    }
   ],
   "source": [
    "# what is the accuracy of the model? Is it better or worse than previous?Why do you think it has changed? \n",
    "from sklearn.model_selection import train_test_split\n",
    "\n",
    "X_train, X_test, y_train, y_test = train_test_split(X, y, test_size=0.2, random_state=42)\n",
    "\n",
    "model.fit(X_train, y_train)\n",
    "\n",
    "test_accuracy = model.score(X_test, y_test)\n",
    "print(f\"Test Accuracy: {test_accuracy}\")"
   ]
  },
  {
   "cell_type": "markdown",
   "metadata": {},
   "source": [
    "This is the part where I used Github Copilot."
   ]
  },
  {
   "cell_type": "markdown",
   "metadata": {},
   "source": [
    "-----------------------------------------------------------------------------------------------------------------------------------"
   ]
  },
  {
   "cell_type": "markdown",
   "metadata": {},
   "source": [
    "The accuracy of the model is 71.21% (the test accuracy is 0.7121693121693121). This is worst than the previous, because the previous accuracy is 90.01% (0.9001058201058201) while the accuracy of this is 71.21%. Therefore, 71.21% < 90.01% and is worst than the previous accuracy.\n",
    "\n",
    "I think it changes because the previous dataset was because it went through the coding process of leminization and removal of stopword. In this dataset, what is done is involved only with the X_train and y_train for training and hold out the X_test and y_test. Therefore, the testing is different and results in the difference in the accuracy."
   ]
  },
  {
   "cell_type": "markdown",
   "metadata": {},
   "source": [
    "#### Part 3: Examine the top features of your model using the following code"
   ]
  },
  {
   "cell_type": "code",
   "execution_count": 85,
   "metadata": {},
   "outputs": [
    {
     "data": {
      "image/png": "[encoded data removed]",
      "text/plain": [
       "<Figure size 1000x500 with 1 Axes>"
      ]
     },
     "metadata": {},
     "output_type": "display_data"
    },
    {
     "data": {
      "image/png": "[encoded data removed]",
      "text/plain": [
       "<Figure size 1000x500 with 1 Axes>"
      ]
     },
     "metadata": {},
     "output_type": "display_data"
    }
   ],
   "source": [
    "#get the coefficients of the model and plot the top 10 most positive and top 10 most negative coefficients\n",
    "#what do you notice about these words? Are they surprising or expected?\n",
    "feature_names = vectorizer.get_feature_names_out()\n",
    "\n",
    "coefficients = model.coef_[0]\n",
    "\n",
    "coefficients_df = pd.DataFrame({'feature': feature_names, 'coefficient': coefficients})\n",
    "\n",
    "coefficients_df = coefficients_df.sort_values('coefficient', ascending=False)\n",
    "\n",
    "top_10_positive = coefficients_df.head(10)\n",
    "top_10_negative = coefficients_df.tail(10)\n",
    "\n",
    "plt.figure(figsize=(10, 5))\n",
    "plt.barh(top_10_positive['feature'], top_10_positive['coefficient'], color='green')\n",
    "plt.xlabel('Coefficient Value')\n",
    "plt.title('Top 10 Positive Coefficients')\n",
    "plt.gca().invert_yaxis()\n",
    "plt.show()\n",
    "\n",
    "plt.figure(figsize=(10, 5))\n",
    "plt.barh(top_10_negative['feature'], top_10_negative['coefficient'], color='red')\n",
    "plt.xlabel('Coefficient Value')\n",
    "plt.title('Top 10 Negative Coefficients')\n",
    "plt.gca().invert_yaxis()\n",
    "plt.show()"
   ]
  },
  {
   "cell_type": "markdown",
   "metadata": {},
   "source": [
    "This is the secion where I used Github Copilot."
   ]
  },
  {
   "cell_type": "code",
   "execution_count": 86,
   "metadata": {},
   "outputs": [],
   "source": [
    "coefficients = pd.DataFrame({'feature': feature_names, 'coefficient': model.coef_[0]})\n",
    "coefficients = coefficients.sort_values('coefficient', ascending=False)\n",
    "top_10_positive = coefficients.head(10)\n",
    "top_10_negative = coefficients.tail(10)"
   ]
  },
  {
   "cell_type": "markdown",
   "metadata": {},
   "source": [
    "#coefficients = pd.DataFrame({'feature': X.columns, 'coefficient': model.coef_[0]})\n",
    "\n",
    "\n",
    "#coefficients = coefficients.sort_values('coefficient', ascending=False)\n",
    "\n",
    "\n",
    "#top_10_positive = coefficients.head(10)\n",
    "\n",
    "\n",
    "#top_10_negative = coefficients.tail(10)\n",
    "\n",
    "\n",
    "I do not know why, but there is an error in the code. I just redid it and changes the X.columns with feature_names."
   ]
  },
  {
   "cell_type": "code",
   "execution_count": 87,
   "metadata": {},
   "outputs": [
    {
     "name": "stdout",
     "output_type": "stream",
     "text": [
      "Top 10 Positive Coefficients:\n",
      "        feature  coefficient\n",
      "7534       uiuc     2.751834\n",
      "6064        rso     2.089261\n",
      "3278   illinois     1.963792\n",
      "935   champaign     1.875729\n",
      "7638     urbana     1.837132\n",
      "2833   grainger     1.830657\n",
      "3675        las     1.709362\n",
      "7396        tow     1.669604\n",
      "1518   danville     1.651941\n",
      "3275     illini     1.601253\n",
      "\n",
      "Top 10 Negative Coefficients:\n",
      "         feature  coefficient\n",
      "3425  internship    -1.540227\n",
      "4086         lsa    -1.599919\n",
      "8020   wolverine    -1.636490\n",
      "4239       mcard    -1.687356\n",
      "1680        diag    -1.805738\n",
      "1935         eec    -1.895253\n",
      "7540          um    -1.953894\n",
      "7543       umich    -2.038391\n",
      "2480      fresno    -2.190258\n",
      "4321    michigan    -2.961852\n",
      "\n",
      "Examples of comments containing top positive words:\n",
      "\n",
      "Comments containing 'uiuc':\n",
      "[\"Brother bear; I aint butthurt.\\n\\nIm a former engineer alum, and i worked for the grainger library once upon a time.\\n\\nMy comment is not a slight against you nor engineers at uiuc, rather it was commentary on the pressure that the engineering *college* places on its students such that they are disproportionately more likely to kill themselves. So much more likely infact, that the college's policy has been to lock access to upper floors of nearly every building on the engineering campus due to safety concerns (i'd know as i worked in one such building). However, there are no such safety concerns among the most liberal arts buildings, as the rates of mental health crises are measurably lower among liberal arts students, which is reflected in the data, and thus rooftop access is not only permissible, but is often public access and often encouraged.\\n\\nBut what do i know; maybe thats just a high-minded analysis that the liberal arts college filled my head with that cant be translated into a Natural Language for your brain process, because clearly you couldnt read between the lines and understand that my comment had nothing to do with you, but rather the school ecosystem. \\n\\nAs i said, engineers havent changed; not in the toxic academic environment they create both in-class, out-of-class and online, nor in their arrogance in assuming every conversation revolves around them, nor in their inability to perceive real societal issues that can't be expressed in formulas.\\n\\nSincerely, a former engineer of UIUC.\", 'Link if you want to join - we need 500 of us and UIUC gets the whole thing for free!!! [https://www.perplexity.ai/backtoschool](https://www.perplexity.ai/backtoschool)', 'Thank you for your comment! I\\'m so glad I have someone to relate to.. everyone just seems so set on their major and I feel so behind.\\n\\nThe thing with me and design is that I can imagine it, even with great detail, but I can\\'t put it to paper. I can draw structures and replicate, but that\\'s like it. Actual creative thinking? I mentally cannot. Maybe if I tried hard enough, but then I also heard that ROI for architecture is in the dumps so it wouldn\\'t really be worth all the mental stress\\n\\nI\\'m gonna visit the FAA office and ask if the structural licensing exam applies to arch. It sounds really interesting. Thanks for bringing it up\\n\\nAnd construction? Love it! The course outline for Arch studies seems a lot more design-based than what they advertise, which is a bit sad. The only structural/technical courses you would take are during your Sophomore year. The two years after that? Design studios. Arch studies at UIUC used to be Arch Engineering. Idk why they changed it.\\n\\nI heard directly from TAs that physics and calc classes are usually the \"weeding\" classes to see who can really succeed. Honestly... it might get me too lol\\n\\nAnd it sounds like you\\'ve got a solid plan! From what I saw, UIUC has top ranking for Structural eng if you wanna go there again\\n\\nIn my original post, I mentioned Missouri S&T. Idk about masters, but they offer undergrads a choice to do both Civil Eng and Arch Eng dual degree, so it might be good to check up on that if you would still be interested']\n",
      "\n",
      "Comments containing 'rso':\n",
      "['Have the same professor! And in lecture he did say we were gonna have to learn some of the stuff ourself\\xa0\\n\\nI would recommend using online resources such as Paul’s Online Math Notes and Professor Leonard on YouTube. Personally, I’ve been learning the material from those sources before going to lecture', 'Do you have questions after reading about the RSO?', 'They never send info about someone who has that kind of event in their life. If such a thing happens it is only the person in distress who is in danger - not you.']\n",
      "\n",
      "Comments containing 'illinois':\n",
      "[\"There's a policy about fees for inactive accounts: https://www.housing.illinois.edu/dine/purchase/illini-cash (so, you may not have any Illini Cash left.) You can check your existing balance at https://web.housing.illinois.edu/IlliniCash.\\n\\nOther than that, adding some amount of Illini Cash should get you added to the Non-Resident Meal Plan access level that gets you to dining areas during serving hours.\", '[https://kcsa.illinois.edu/](https://kcsa.illinois.edu/)', 'Champaign does not have additional provisions like Urbana in regards to tenet rights. They are, however, still governed by state law. \\n\\nhttps://occl.illinois.edu/rights-and-responsibilities/rights\\n\\nThis is the best resource. There are other threads about UGroup on the subreddit as well.']\n",
      "\n",
      "Comments containing 'champaign':\n",
      "['Basically you just need to get to ORD (and fly to Newark from there). You’ve got three options for that\\n\\nFirst, you can take a bus. Peoria Charter is a good option because they have service to ORD from three stops in CU every two hours or so (and more on busy travel days like school breaks). It’ll take around 3.5-4 hours to get to ORD and tickets around $40-$50 each way\\n\\nYou could also take the train, but it’s a bit more complicated, as Amtrak’s routes from Champaign to Chicago will end up you at Union Station in downtown. From there you’ll need to take the CTA blue line to the airport. It’s around a 2.5-3 hour train ride plus about 45 minutes on the CTA line. Amtrak tickets are much cheaper though, as they only cost around $15 if you book in advance (plus another $5 for the CTA ticket to the airport). You also have more limited timing options, as there are only 3 trains per day from Champaign to Chicago\\n\\nLastly, you could fly. There are two flights a day from Champaign to ORD, on American (but they’re operated by Envoy Air if that matters to you). Then you just take a connecting flight to EWR. However, this option is going to be the most expensive and will probably cost several hundred dollars', 'Good point! I reported it to both Campus and Champaign police. The response I received was from the campus police. Maybe the Champaign police will have a different response? Thanks for your comment.', 'Bruh if you are already affording to pay $1900/mo for rent in  Champaign, what the hell is an extra $90. Why you trying to min/max a couple dollars, it sounds like you are already rich.\\n\\nThats actually an insane amount... I pay less than that for a one bedroom 10mins from downtown seattle.']\n",
      "\n",
      "Comments containing 'urbana':\n",
      "['Champaign does not have additional provisions like Urbana in regards to tenet rights. They are, however, still governed by state law. \\n\\nhttps://occl.illinois.edu/rights-and-responsibilities/rights\\n\\nThis is the best resource. There are other threads about UGroup on the subreddit as well.', \"Just adding that the National Weather Service has a website (https://www.weather.gov/) that provides real time updates for weather alerts across the entire US. The link for the region of Illinois that includes Champaign and Urbana is the one for the Lincoln station (https://www.weather.gov/ilx/), which shows the zoomed in map with all current alerts for the campus area. Tornado warnings are bright red, tornado watches are bright yellow, severe thunderstorm (large hail/high winds) warnings are bright orange, and flood warnings are dark red (flash flood) or bright green (non-flash flood), to cover the major year-round warnings. If there's bad weather on a siren test day and the sirens go off, check NWS or a similar site for severe weather warnings before assuming it's just the test.\", 'Two new venues opening up in Urbana– the treehouse and grandmas house. Treehouse has the same address as the forest bc it’s the other side of that duplex, and grandmas house isn’t far from there\\n\\nThere’s also the powder room, which was my favorite last year, and the Junkyard isn’t far from there']\n",
      "\n",
      "Comments containing 'grainger':\n",
      "['Ayo what happened at Grainger?', \"Brother bear; I aint butthurt.\\n\\nIm a former engineer alum, and i worked for the grainger library once upon a time.\\n\\nMy comment is not a slight against you nor engineers at uiuc, rather it was commentary on the pressure that the engineering *college* places on its students such that they are disproportionately more likely to kill themselves. So much more likely infact, that the college's policy has been to lock access to upper floors of nearly every building on the engineering campus due to safety concerns (i'd know as i worked in one such building). However, there are no such safety concerns among the most liberal arts buildings, as the rates of mental health crises are measurably lower among liberal arts students, which is reflected in the data, and thus rooftop access is not only permissible, but is often public access and often encouraged.\\n\\nBut what do i know; maybe thats just a high-minded analysis that the liberal arts college filled my head with that cant be translated into a Natural Language for your brain process, because clearly you couldnt read between the lines and understand that my comment had nothing to do with you, but rather the school ecosystem. \\n\\nAs i said, engineers havent changed; not in the toxic academic environment they create both in-class, out-of-class and online, nor in their arrogance in assuming every conversation revolves around them, nor in their inability to perceive real societal issues that can't be expressed in formulas.\\n\\nSincerely, a former engineer of UIUC.\", 'why don’t u rent a room in grainger! use the library website !!']\n",
      "\n",
      "Comments containing 'las':\n",
      "['Basically you just need to get to ORD (and fly to Newark from there). You’ve got three options for that\\n\\nFirst, you can take a bus. Peoria Charter is a good option because they have service to ORD from three stops in CU every two hours or so (and more on busy travel days like school breaks). It’ll take around 3.5-4 hours to get to ORD and tickets around $40-$50 each way\\n\\nYou could also take the train, but it’s a bit more complicated, as Amtrak’s routes from Champaign to Chicago will end up you at Union Station in downtown. From there you’ll need to take the CTA blue line to the airport. It’s around a 2.5-3 hour train ride plus about 45 minutes on the CTA line. Amtrak tickets are much cheaper though, as they only cost around $15 if you book in advance (plus another $5 for the CTA ticket to the airport). You also have more limited timing options, as there are only 3 trains per day from Champaign to Chicago\\n\\nLastly, you could fly. There are two flights a day from Champaign to ORD, on American (but they’re operated by Envoy Air if that matters to you). Then you just take a connecting flight to EWR. However, this option is going to be the most expensive and will probably cost several hundred dollars', \"Brother bear; I aint butthurt.\\n\\nIm a former engineer alum, and i worked for the grainger library once upon a time.\\n\\nMy comment is not a slight against you nor engineers at uiuc, rather it was commentary on the pressure that the engineering *college* places on its students such that they are disproportionately more likely to kill themselves. So much more likely infact, that the college's policy has been to lock access to upper floors of nearly every building on the engineering campus due to safety concerns (i'd know as i worked in one such building). However, there are no such safety concerns among the most liberal arts buildings, as the rates of mental health crises are measurably lower among liberal arts students, which is reflected in the data, and thus rooftop access is not only permissible, but is often public access and often encouraged.\\n\\nBut what do i know; maybe thats just a high-minded analysis that the liberal arts college filled my head with that cant be translated into a Natural Language for your brain process, because clearly you couldnt read between the lines and understand that my comment had nothing to do with you, but rather the school ecosystem. \\n\\nAs i said, engineers havent changed; not in the toxic academic environment they create both in-class, out-of-class and online, nor in their arrogance in assuming every conversation revolves around them, nor in their inability to perceive real societal issues that can't be expressed in formulas.\\n\\nSincerely, a former engineer of UIUC.\", 'If you sit at one of the tables in the basement food court in the Illini union is it too loud for your class?']\n",
      "\n",
      "Comments containing 'tow':\n",
      "['Basically you just need to get to ORD (and fly to Newark from there). You’ve got three options for that\\n\\nFirst, you can take a bus. Peoria Charter is a good option because they have service to ORD from three stops in CU every two hours or so (and more on busy travel days like school breaks). It’ll take around 3.5-4 hours to get to ORD and tickets around $40-$50 each way\\n\\nYou could also take the train, but it’s a bit more complicated, as Amtrak’s routes from Champaign to Chicago will end up you at Union Station in downtown. From there you’ll need to take the CTA blue line to the airport. It’s around a 2.5-3 hour train ride plus about 45 minutes on the CTA line. Amtrak tickets are much cheaper though, as they only cost around $15 if you book in advance (plus another $5 for the CTA ticket to the airport). You also have more limited timing options, as there are only 3 trains per day from Champaign to Chicago\\n\\nLastly, you could fly. There are two flights a day from Champaign to ORD, on American (but they’re operated by Envoy Air if that matters to you). Then you just take a connecting flight to EWR. However, this option is going to be the most expensive and will probably cost several hundred dollars', 'Bruh if you are already affording to pay $1900/mo for rent in  Champaign, what the hell is an extra $90. Why you trying to min/max a couple dollars, it sounds like you are already rich.\\n\\nThats actually an insane amount... I pay less than that for a one bedroom 10mins from downtown seattle.', 'Im paying less than $1900 for a one bedroom super close to downtown Seattle. \\n\\nAnd this is one of the most expensive cities to live in the US.']\n",
      "\n",
      "Comments containing 'danville':\n",
      "['Did you make it to Danville', 'What’s your preferred gas station to buy your gas to get to Danville?', 'How much does it cost to get to Danville? It took you fucking years']\n",
      "\n",
      "Comments containing 'illini':\n",
      "['Purchasing Illini Cash should get you added to the Non-Resident Meal Plan card access level. These **generally** allow you access to whatever is considered the \"front door\" of the residence hall with access to the dining hall.\\n\\nAt PAR, that would be the doors facing the bus stop on the south side of the building. Only the mag stripe reader will work, prox access in (most) of the residence halls is currently only activated for residents with ADA needs.', 'Is there a lower limit for that? I have some Illini Cash left over from last year, though it is less than 5$.', \"There's a policy about fees for inactive accounts: https://www.housing.illinois.edu/dine/purchase/illini-cash (so, you may not have any Illini Cash left.) You can check your existing balance at https://web.housing.illinois.edu/IlliniCash.\\n\\nOther than that, adding some amount of Illini Cash should get you added to the Non-Resident Meal Plan access level that gets you to dining areas during serving hours.\"]\n",
      "\n",
      "Examples of comments containing top negative words:\n",
      "\n",
      "Comments containing 'internship':\n",
      "[\"I'm in the same situation, but with astronomy. It's difficult to find work without a masters or PhD, but [this post](https://www.reddit.com/r/Andromeda321/comments/fyjmpv/updated_so_you_want_to_be_an_astronomer/) lays it out and, imo, is helpful for your questions. \\n\\nAs for the near future, asking professors if they have any open internship/assistantship spots or research is a good start. If you haven't already, I recommend taking [ASTR 496](https://courses.illinois.edu/schedule/2024/fall/ASTR/496); every week, a faculty member of the Astronomy/Astrophysics department presents their research. It's a good opportunity to learn about different areas of research and summer research assistantships.\", 'It’s ok.  I graduated as a finance major and caddied at a country club every summer.  I never had a professional internship because I was too anxious/scared to pursue one and my career turned out fine.  You have already exceeded what I achieved as far as your professional experience in college.  You go to a great school and you are good enough.  Keep working hard and in the end it will all pay off, believe that.  A degree from UIUC is very powerful in the real world believe it or not.', 'Do you think these people are sharing their struggles, or just their achievements? I promise nobody is going around flaunting the fact that they applied to 50 internships and dealt with crippling anxiety just to find one company that would take them. You, on the other hand, know everything about yourself- the good and the bad. You’re seeing a fraction of what these other people reveal publicly. It’s the same as social media. People show you the highlights and make no mention of their depression or loneliness or self doubt or just plain boring lives. Comparing yourself to others is a great way to make yourself feel inadequate. I’d avoid it. Good luck I’m your journey. Keep putting in the time and it will pay off down the road. Maybe not as fast as you’re hoping, but probably faster than you’re fearing.']\n",
      "\n",
      "Comments containing 'lsa':\n",
      "['Our tuition and tax money is helping fund these partnerships:\\n\\n1. Boeing Partnership with the Grainger College of Engineering \\n\\n**\"Boeing has delivered weapons to Israel through commercial deals approved by the U.S. government**—like a $735 million deal in 2021—and through standard U.S. military contracts.\"\\n\\n[https://www.kuow.org/stories/graphic-boeing-was-top-us-manufacturer-of-missiles-and-munitions-delivered-to-Israel](https://www.kuow.org/stories/graphic-boeing-was-top-us-manufacturer-of-missiles-and-munitions-delivered-to-Israel)\\n\\n2. Partnerships with Israeli universities such as Hebrew University of Jerusalem\\n\\n3. Links to Elbit Systems, Northrop Grumman and Raytheon as well as investments in Blackrock which are all involved in supplying for the Israeli military\\n\\n4. UIC and UIUC partnership with Caterpillar (CAT) which is a manufacturing firm that supplies the IDF with bulldozers\\n\\n[https://www.forbes.com/sites/erictegler/2023/10/24/israels-armored-caterpillar-bulldozers-will-be-active-in-gaza/](https://www.forbes.com/sites/erictegler/2023/10/24/israels-armored-caterpillar-bulldozers-will-be-active-in-gaza/)\\n\\nAmong many other direct and indirect holdings in corporations supplying the Israeli military with weapons and resources. If you are interested in learning more, SJP UIUC has made a significant amount of posts related specifically to the holdings UIUC has with these corporations.', 'random events hosted by lsa or clubs/organizations', 'Thank you for your advice! So far I’m already registered for MCDB 310 and WGS 240 (for LSA requirements) as those were the only two I could get off the waitlist for so far I’m trying to at least get microbiology in my schedule as well. All the other classes I would like to take for my neuroscience requirements and PA school pre reqs Are either clashing time wise with my biochem course, super full with no chance of me getting off the waitlist (bio 225 and 226 which fits perfectly into my schedule 🥲), or I’ve been advised against because the subject matter is too heavy to be combined with biochem that’s already a hard class (anatomy 403, physiology 201, biology 305, etc.) I’m also currently a PCT to be able to get clinical experience but I’m always stressed that I’m not doing enough since applications will be competitive 😅']\n",
      "\n",
      "Comments containing 'wolverine':\n",
      "['I got Wolverine preggers 😫🍆💦💦💦💦💦', 'It should be on your unofficial transcript through Wolverine access, but that’s a good question to email your academic advisor about or to do in person or virtual drop in advising at Newnan advising.', 'Depends on who you’re dealing with it and how it’s formatted. You’ll list the city anyways so they will know it’s Ann Arbor or not. The only time it might make a difference is if you are transferring from Dearborn/Flint or went there and you are applying out of state vs in state, but that’s more in knowing how you may look more attractive to whoever may look over your resume. But really you have nothing to worry about welcome to being a wolverine and the perks that come with that name.']\n",
      "\n",
      "Comments containing 'mcard':\n",
      "['Would I just not get any information if it was encrypted? I just scanned my mcard and I got:\\ntag type, a (dynamic) serial number, and historical bytes(?)', 'Hey! Your not the only on post grad staying on campus. There is a lot of people. No need to worry you will be able to still be in buildings. If your in Shapiro past midnight they will ask to look at your Mcard. (As long as you have thats fine)', \"I went last year. Seems like they made it longer this year! It was like 12-5 last year. \\n\\nYou'll know where to go, there should be signs everywhere showing you. When I went, it started out outdoors and there was some speeches from professors and admin people. Not super long or anything! \\n\\nThen they handed out commemorative keychains, then everybody went inside and sat down and there was a presentation about different types of features and supports you can get at Dearborn. \\n\\nThen they let you go do whatever you want, and there was tables set up everywhere so you can talk to different organizations and programs. \\n\\nYou can get your mcard at this point or leave or whatever you want. \\n\\nidk if they've changed anything, but that's what happened when I went.\"]\n",
      "\n",
      "Comments containing 'diag':\n",
      "[\"I built it to have scientific functionality for stem degrees, so it has stuff that Notion doesn't have. For example, plotting equations, geometry, running code, drawing molecules, matrices, circuit diagrams, etc. I also made it to type math fast alot faster without needing to write out full latex commands. I'm actually working on markdown export right now, I can update you when that's done! Should only be a few more days.\", 'Go to McKinley, they can test you for Covid, flu, strep, etc, with more reliable tests than you can get at the grocery store or drug store. The rapid tests aren’t super accurate. If you are sick and get a real diagnosis, you can get exemption from attending class and avoid spreading it to others (and get some rest!).', 'Walk around, go explore a bit. Get ice cream on state street, hang out in the Diag and eat it. Pick up a fun treat from a restaurant. Rent a scooter. Say hi to people you see in your dorm. Welcome home!']\n",
      "\n",
      "Comments containing 'eec':\n",
      "['most places will patch a tire for free/cheap so i would just take it in. otherwise most shops also sell small hole patch kits. that’s only for if you ran over a nail or something like that though', 'I don’t think it’s the entire industry… I’ve rented before and not had problems getting deposits back.  But it clearly seems rampant in and around Urbana.  It seems as though renters are being fleeced to cover the annual renovation costs of the landlords, above and beyond what should already be covered the the business revenue of the rental collection.', 'Aside from sympathy, are there ways to be as efficient as possible?  Speech-to-text (to a word doc, then cut and paste to the discussion so you can edit)?  Summaries of articles then skim the whole one for some extra details?']\n",
      "\n",
      "Comments containing 'um':\n",
      "[\"Hey man, the humanities buildies dont have their rooftop and balcony access locked off, just sayin'. \\n\\nEngineers love data.... and boy is there alotta data behind locking those upper levels.\", 'Which humanities building specifically? (Asking for a friend here)', \"Brother bear; I aint butthurt.\\n\\nIm a former engineer alum, and i worked for the grainger library once upon a time.\\n\\nMy comment is not a slight against you nor engineers at uiuc, rather it was commentary on the pressure that the engineering *college* places on its students such that they are disproportionately more likely to kill themselves. So much more likely infact, that the college's policy has been to lock access to upper floors of nearly every building on the engineering campus due to safety concerns (i'd know as i worked in one such building). However, there are no such safety concerns among the most liberal arts buildings, as the rates of mental health crises are measurably lower among liberal arts students, which is reflected in the data, and thus rooftop access is not only permissible, but is often public access and often encouraged.\\n\\nBut what do i know; maybe thats just a high-minded analysis that the liberal arts college filled my head with that cant be translated into a Natural Language for your brain process, because clearly you couldnt read between the lines and understand that my comment had nothing to do with you, but rather the school ecosystem. \\n\\nAs i said, engineers havent changed; not in the toxic academic environment they create both in-class, out-of-class and online, nor in their arrogance in assuming every conversation revolves around them, nor in their inability to perceive real societal issues that can't be expressed in formulas.\\n\\nSincerely, a former engineer of UIUC.\"]\n",
      "\n",
      "Comments containing 'umich':\n",
      "['you need to take into consideration how rigorous umich courses are especially stems. if you did better than expected in your high school classes and took all the previous course, i’d recommend it but with an easier load in your schedule.', 'Short answer, no. \\n\\n“Northwood contract holders may swap between Northwood Community Apartments.\\nResidents may not swap between Northwood Community Apartments and Munger Graduate Residences.”\\n\\nOnly time they allow transfers between the buildings is at the completion of a contract. \\n\\nhttps://kb.housing.umich.edu/hc/en-us/articles/360028746291-Graduate-Transfers-Room-Swaps', 'You can see the job stats\\n\\nhttps://sph.umich.edu/careers/pdf/CDO_Undergrad_report_2023_FINAL.pdf\\n\\nhttps://sph.umich.edu/careers/outcomes.html']\n",
      "\n",
      "Comments containing 'fresno':\n",
      "['Looking to buy a Fresno ticket, dm pls!', \"I'm selling tickets to the last 6 games of the season, everything other than Texas and Fresno. Check out my post for prices or make me an offer for all 6.\", 'Looking for Fresno']\n",
      "\n",
      "Comments containing 'michigan':\n",
      "[\"Hey there, I'm from oos (Michigan) just moved here and have been having a hard time making friends. Reach out if you ever want someone or someones to hangout with. I'm 25 F,  I have a job at the hospital while I'm working on my prerequisites to get into a program. My boyfriend is 24, hes a Chem E major. We are both really approachable and have really been enjoying getting to know Champaign. I love to bake and I need some friends to share my baked goodies with! We enjoy anime, videogames, walking, going to the library, exploring downtown. I really enjoy biking, gardening, reading, baking, 😄 \\n\\nNever feel like you are alone here, many of us feel exactly the same. Take care!\", 'Michigan game with a two night minimum at most hotels. Honestly, keep checking as rooms open when people cancel, or stay in Rantoul. Only 25 minutes from campus.', \"100 years ago, they dedicated Memorial Stadium and red Grange rushed for six touchdowns against Michigan. Probably isn't going to happen this year.\"]\n"
     ]
    }
   ],
   "source": [
    "print(\"Top 10 Positive Coefficients:\")\n",
    "print(top_10_positive)\n",
    "\n",
    "print(\"\\nTop 10 Negative Coefficients:\")\n",
    "print(top_10_negative)\n",
    "\n",
    "positive_words = top_10_positive['feature'].tolist()\n",
    "negative_words = top_10_negative['feature'].tolist()\n",
    "\n",
    "print(\"\\nExamples of comments containing top positive words:\")\n",
    "for word in positive_words:\n",
    "    print(f\"\\nComments containing '{word}':\")\n",
    "    print(data[data['lemmatized_text'].str.contains(word, case=False, na=False)]['text'].head(3).tolist())\n",
    "\n",
    "print(\"\\nExamples of comments containing top negative words:\")\n",
    "for word in negative_words:\n",
    "    print(f\"\\nComments containing '{word}':\")\n",
    "    print(data[data['lemmatized_text'].str.contains(word, case=False, na=False)]['text'].head(3).tolist())"
   ]
  },
  {
   "cell_type": "markdown",
   "metadata": {},
   "source": [
    "This section is where I used Github Copilot."
   ]
  },
  {
   "cell_type": "markdown",
   "metadata": {},
   "source": [
    "### Problem 4: Train a 10 topic topic model from the UIUC subreddit data using Gensim LDA. (https://radimrehurek.com/gensim/auto_examples/tutorials/run_lda.html) If you get here before Wednesday 9/11, don't rush to finish, but feel free to continue ahead. We will go through this in class. Print out the top words in each topic, and read through the words for each topic to decide the theme of the topic: remember this is subjective and there are no right or wrong answers. Print out a few comments with high frequencies of each topic and analyze if your topic labels were representative. "
   ]
  },
  {
   "cell_type": "code",
   "execution_count": 88,
   "metadata": {},
   "outputs": [
    {
     "name": "stdout",
     "output_type": "stream",
     "text": [
      "Requirement already satisfied: gensim in /opt/miniconda3/envs/is310/lib/python3.9/site-packages (4.3.3)\n",
      "Collecting numpy<2.0,>=1.18.5 (from gensim)\n",
      "  Using cached numpy-1.26.4-cp39-cp39-macosx_11_0_arm64.whl.metadata (61 kB)\n",
      "Requirement already satisfied: scipy<1.14.0,>=1.7.0 in /opt/miniconda3/envs/is310/lib/python3.9/site-packages (from gensim) (1.13.1)\n",
      "Requirement already satisfied: smart-open>=1.8.1 in /opt/miniconda3/envs/is310/lib/python3.9/site-packages (from gensim) (7.1.0)\n",
      "Requirement already satisfied: wrapt in /opt/miniconda3/envs/is310/lib/python3.9/site-packages (from smart-open>=1.8.1->gensim) (1.17.2)\n",
      "Using cached numpy-1.26.4-cp39-cp39-macosx_11_0_arm64.whl (14.0 MB)\n",
      "Installing collected packages: numpy\n",
      "  Attempting uninstall: numpy\n",
      "    Found existing installation: numpy 2.0.2\n",
      "    Uninstalling numpy-2.0.2:\n",
      "      Successfully uninstalled numpy-2.0.2\n",
      "Successfully installed numpy-1.26.4\n"
     ]
    }
   ],
   "source": [
    "!pip install gensim"
   ]
  },
  {
   "cell_type": "code",
   "execution_count": 89,
   "metadata": {},
   "outputs": [],
   "source": [
    "import numpy"
   ]
  },
  {
   "cell_type": "code",
   "execution_count": 90,
   "metadata": {},
   "outputs": [
    {
     "name": "stdout",
     "output_type": "stream",
     "text": [
      "Collecting numpy==1.26.4\n",
      "  Using cached numpy-1.26.4-cp39-cp39-macosx_11_0_arm64.whl.metadata (61 kB)\n",
      "Using cached numpy-1.26.4-cp39-cp39-macosx_11_0_arm64.whl (14.0 MB)\n",
      "Installing collected packages: numpy\n",
      "Successfully installed numpy-1.26.4\n"
     ]
    }
   ],
   "source": [
    "!pip install numpy==1.26.4 --ignore-installed numpy"
   ]
  },
  {
   "cell_type": "code",
   "execution_count": 91,
   "metadata": {},
   "outputs": [
    {
     "name": "stdout",
     "output_type": "stream",
     "text": [
      "Topic 0: 0.025*\"facebook\" + 0.023*\"interaction\" + 0.019*\"computer engineering\" + 0.016*\"justice\" + 0.010*\"dig deep\" + 0.010*\"freedom\" + 0.010*\"comment\" + 0.010*\"crime\" + 0.010*\"consistently\" + 0.008*\"lady\"\n",
      "Topic 1: 0.020*\"facebook\" + 0.012*\"great opportunity\" + 0.011*\"dig deep\" + 0.010*\"early like\" + 0.010*\"kitchen\" + 0.010*\"find friend\" + 0.010*\"light\" + 0.010*\"lift\" + 0.009*\"dollar year\" + 0.008*\"know go\"\n",
      "Topic 2: 0.012*\"bad not\" + 0.012*\"day war\" + 0.009*\"get michigan\" + 0.009*\"leave car\" + 0.009*\"know probably\" + 0.009*\"damage normal\" + 0.009*\"congratulation\" + 0.008*\"breadth\" + 0.008*\"layer\" + 0.008*\"door window\"\n",
      "Topic 3: 0.016*\"facebook\" + 0.012*\"cancer\" + 0.011*\"assignment\" + 0.010*\"lecture video\" + 0.009*\"ask join\" + 0.009*\"aero\" + 0.008*\"amtrak\" + 0.008*\"intentional\" + 0.008*\"enjoy time\" + 0.007*\"arb\"\n",
      "Topic 4: 0.032*\"freedom\" + 0.023*\"door window\" + 0.020*\"facebook\" + 0.019*\"comment\" + 0.014*\"clause\" + 0.012*\"ec\" + 0.011*\"close campus\" + 0.010*\"building not\" + 0.010*\"easy bus\" + 0.010*\"consistently\"\n",
      "Topic 5: 0.024*\"democratic\" + 0.017*\"like think\" + 0.014*\"day ll\" + 0.012*\"ballot\" + 0.010*\"ap credit\" + 0.010*\"happiness\" + 0.010*\"commute\" + 0.009*\"clothing\" + 0.009*\"innocent\" + 0.009*\"cs student\"\n",
      "Topic 6: 0.039*\"facebook\" + 0.013*\"ideology\" + 0.008*\"door window\" + 0.008*\"introduction\" + 0.008*\"gen chem\" + 0.008*\"guideline\" + 0.007*\"internship application\" + 0.007*\"dig deep\" + 0.007*\"baby\" + 0.007*\"know like\"\n",
      "Topic 7: 0.033*\"bare\" + 0.017*\"facebook\" + 0.015*\"isr\" + 0.012*\"congratulation\" + 0.010*\"half\" + 0.010*\"hard find\" + 0.009*\"hotel\" + 0.009*\"let park\" + 0.009*\"like people\" + 0.009*\"computer engineering\"\n",
      "Topic 8: 0.061*\"leave door\" + 0.012*\"carpet cleaning\" + 0.009*\"dad\" + 0.009*\"initial\" + 0.008*\"know right\" + 0.008*\"climate\" + 0.008*\"credit\" + 0.008*\"introduction\" + 0.008*\"initially\" + 0.008*\"find new\"\n",
      "Topic 9: 0.029*\"ideology\" + 0.017*\"like people\" + 0.012*\"asynchronous\" + 0.010*\"fraud\" + 0.010*\"consistently\" + 0.010*\"groupme\" + 0.009*\"class year\" + 0.009*\"bad not\" + 0.009*\"drink\" + 0.008*\"awful\"\n",
      "\n",
      "Comments with high frequencies of Topic 0:\n",
      "['Have you tried emailing University Housing to request access?', \"Just did, thanks for the suggestion! It hadn't occurred to me to do that.\", 'Is there a lower limit for that? I have some Illini Cash left over from last year, though it is less than 5$.']\n",
      "\n",
      "Comments with high frequencies of Topic 1:\n",
      "[\"There's a policy about fees for inactive accounts: https://www.housing.illinois.edu/dine/purchase/illini-cash (so, you may not have any Illini Cash left.) You can check your existing balance at https://web.housing.illinois.edu/IlliniCash.\\n\\nOther than that, adding some amount of Illini Cash should get you added to the Non-Resident Meal Plan access level that gets you to dining areas during serving hours.\", \"take Peoria charter to O'Hare and catch one of the million United flights a day between ORD and EWR. or American if you're a masochist and for some reason like flying them over united...\", 'Easiest? CMI-ORD-EWR\\n\\nIf you want to factor cost and scheduling in? Peoria Charter-ORD-EWR']\n",
      "\n",
      "Comments with high frequencies of Topic 2:\n",
      "['Do you find it helpful to still go to the lecture? It seems to me that his slides are embedded with mistakes here and there. It makes it more confusing for me to understand him.', \"Fed \\n\\n\\n(although it's not like they would need to do any undercover work to figure this shit out lol)\", 'I’ll take a bus back']\n",
      "\n",
      "Comments with high frequencies of Topic 3:\n",
      "['Have the same professor! And in lecture he did say we were gonna have to learn some of the stuff ourself\\xa0\\n\\nI would recommend using online resources such as Paul’s Online Math Notes and Professor Leonard on YouTube. Personally, I’ve been learning the material from those sources before going to lecture', \"How'd you come back tho?\", 'Mass mail when the weather is slightly warm and they need you to conserve energy']\n",
      "\n",
      "Comments with high frequencies of Topic 4:\n",
      "['i dont think there is any cheap used one left', 'Do you have questions after reading about the RSO?', 'what are the activities in the club']\n",
      "\n",
      "Comments with high frequencies of Topic 5:\n",
      "['I did , now I’am living in luxury penthouse in 309 green', 'Practice.', 'Someone fell down the stairs and ambulance and police arrived.']\n",
      "\n",
      "Comments with high frequencies of Topic 6:\n",
      "['One advantage of Perplexity over some other GenAIs is that it provides citations with its responses.', 'Wtaf is wrong with you?', \"dawg i'm in college so i don't have to do that\"]\n",
      "\n",
      "Comments with high frequencies of Topic 7:\n",
      "['Purchasing Illini Cash should get you added to the Non-Resident Meal Plan card access level. These **generally** allow you access to whatever is considered the \"front door\" of the residence hall with access to the dining hall.\\n\\nAt PAR, that would be the doors facing the bus stop on the south side of the building. Only the mag stripe reader will work, prox access in (most) of the residence halls is currently only activated for residents with ADA needs.', 'Was it actually a suicide attempt? I initially heard someone \"fell\".', \"yeah because studying to be a future starbucks barista isn't actually that stressful\"]\n",
      "\n",
      "Comments with high frequencies of Topic 8:\n",
      "['Yep, for biochemistry', 'Yup. And then if / when they move they can rent it out. They’re literally just throwing away money', 'The game is sold out']\n",
      "\n",
      "Comments with high frequencies of Topic 9:\n",
      "['There are cameras everywhere on campus. Report it to public safety.', 'I reported it 🙏', 'Scam. Just block it']\n"
     ]
    }
   ],
   "source": [
    "from gensim import corpora\n",
    "from gensim.models import LdaModel\n",
    "from gensim.matutils import Sparse2Corpus\n",
    "\n",
    "# Convert the bag of words matrix to a Gensim corpus\n",
    "corpus_uiuc = Sparse2Corpus(bag_of_words_uiuc, documents_columns=False)\n",
    "\n",
    "# Create a dictionary from the vectorizer's vocabulary\n",
    "id2word_uiuc = dict((v, k) for k, v in vectorizer.vocabulary_.items())\n",
    "\n",
    "# Train the LDA model\n",
    "lda_model_uiuc = LdaModel(corpus=corpus_uiuc, id2word=id2word_uiuc, num_topics=10, random_state=42, passes=10)\n",
    "\n",
    "# Print out the top words in each topic\n",
    "for i, topic in lda_model_uiuc.print_topics(num_words=10):\n",
    "    print(f\"Topic {i}: {topic}\")\n",
    "\n",
    "# Analyze comments with high frequencies of each topic\n",
    "for i in range(10):\n",
    "    print(f\"\\nComments with high frequencies of Topic {i}:\")\n",
    "    topic_comments = []\n",
    "    for j, row in enumerate(corpus_uiuc):\n",
    "        if lda_model_uiuc.get_document_topics(row, minimum_probability=0.1)[0][0] == i:\n",
    "            topic_comments.append(uiuc['text'].iloc[j])\n",
    "    print(topic_comments[:3])  # Print the first 3 comments for each topic"
   ]
  },
  {
   "cell_type": "code",
   "execution_count": 92,
   "metadata": {},
   "outputs": [
    {
     "name": "stdout",
     "output_type": "stream",
     "text": [
      "Found existing installation: numpy 1.26.4\n",
      "Uninstalling numpy-1.26.4:\n",
      "  Successfully uninstalled numpy-1.26.4\n"
     ]
    }
   ],
   "source": [
    "!pip3 uninstall numpy==2.2.2 --yes"
   ]
  },
  {
   "cell_type": "code",
   "execution_count": 93,
   "metadata": {},
   "outputs": [
    {
     "name": "stdout",
     "output_type": "stream",
     "text": [
      "\n",
      "PackagesNotFoundError: The following packages are missing from the target environment:\n",
      "  - numpy\n",
      "\n",
      "\n"
     ]
    }
   ],
   "source": [
    "!conda uninstall numpy --yes"
   ]
  },
  {
   "cell_type": "code",
   "execution_count": 94,
   "metadata": {},
   "outputs": [
    {
     "data": {
      "text/plain": [
       "'1.26.4'"
      ]
     },
     "execution_count": 94,
     "metadata": {},
     "output_type": "execute_result"
    }
   ],
   "source": [
    "import numpy\n",
    "numpy.__version__"
   ]
  },
  {
   "cell_type": "markdown",
   "metadata": {},
   "source": [
    "From the printed words of the topic, the most frequent common words are the words:\n",
    "- \"You\"\n",
    "- \"It\"\n",
    "- \"I/i\"\n",
    "- \"is\"\n",
    "- and \"that\"\n",
    "\n",
    "Based on the \n",
    "These are the words that I find that are the most frequent in the \n",
    "\n",
    "The comments that have high frequencies comment is"
   ]
  },
  {
   "cell_type": "markdown",
   "metadata": {},
   "source": [
    "## Sources that I used."
   ]
  },
  {
   "cell_type": "markdown",
   "metadata": {},
   "source": [
    "The sources that I used is the Github Copilot that helped me with the codes.\n",
    "\n",
    "I have noted which part that I used for the Github Copilot."
   ]
  }
 ],
 "metadata": {
  "kernelspec": {
   "display_name": "is310",
   "language": "python",
   "name": "python3"
  },
  "language_info": {
   "codemirror_mode": {
    "name": "ipython",
    "version": 3
   },
   "file_extension": ".py",
   "mimetype": "text/x-python",
   "name": "python",
   "nbconvert_exporter": "python",
   "pygments_lexer": "ipython3",
   "version": "3.9.21"
  }
 },
 "nbformat": 4,
 "nbformat_minor": 2
}
